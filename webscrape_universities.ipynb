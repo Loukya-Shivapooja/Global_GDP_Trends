{
 "cells": [
  {
   "cell_type": "code",
   "execution_count": 1,
   "id": "9eb85380",
   "metadata": {},
   "outputs": [],
   "source": [
    "#initial imports\n",
    "from splinter import Browser\n",
    "from bs4 import BeautifulSoup as soup\n",
    "from webdriver_manager.chrome import ChromeDriverManager\n",
    "import pandas as pd"
   ]
  },
  {
   "cell_type": "code",
   "execution_count": 2,
   "id": "d1cccfaf",
   "metadata": {},
   "outputs": [],
   "source": [
    "# imports for closing pop ups\n",
    "from selenium import webdriver\n",
    "from selenium.webdriver.chrome.options import Options"
   ]
  },
  {
   "cell_type": "code",
   "execution_count": 3,
   "id": "7f11730b",
   "metadata": {},
   "outputs": [],
   "source": [
    "# Set up Splinter\n",
    "executable_path = {'executable_path': ChromeDriverManager().install()}\n",
    "\n",
    "#browser for closing popups\n",
    "options = Options()\n",
    "options.add_argument(\"--disable-notifications\")\n",
    "browser = Browser('chrome', **executable_path, headless=False) "
   ]
  },
  {
   "cell_type": "code",
   "execution_count": 4,
   "id": "b6a4fe2f",
   "metadata": {},
   "outputs": [
    {
     "data": {
      "text/plain": [
       "False"
      ]
     },
     "execution_count": 4,
     "metadata": {},
     "output_type": "execute_result"
    }
   ],
   "source": [
    "# Visit UniRank website\n",
    "url = 'https://www.4icu.org/reviews/index2.htm'\n",
    "browser.visit(url)\n",
    "browser.is_element_present_by_css('div.list_text', wait_time=2)\n",
    "# browser = webdriver.Chrome('C:\\Python34\\Lib\\site-packages\\selenium\\webdriver\\chromedriver.exe', chrome_options=options)"
   ]
  },
  {
   "cell_type": "code",
   "execution_count": 5,
   "id": "51f54319",
   "metadata": {},
   "outputs": [
    {
     "data": {
      "text/plain": [
       "False"
      ]
     },
     "execution_count": 5,
     "metadata": {},
     "output_type": "execute_result"
    }
   ],
   "source": [
    "# Parse the HTML\n",
    "html = browser.html\n",
    "html_soup = soup(html, 'html.parser')\n",
    "html_soup\n",
    "browser.is_element_present_by_css('div.list_text', wait_time=1)"
   ]
  },
  {
   "cell_type": "code",
   "execution_count": 6,
   "id": "eb78fe3d",
   "metadata": {},
   "outputs": [
    {
     "name": "stdout",
     "output_type": "stream",
     "text": [
      "[[], ['A.T. Still University', 'us'], ['Aalborg Universitet', 'dk'], ['Aalto-yliopisto', 'fi'], ['Aarhus Universitet', 'dk'], ['Aba Teachers University', 'cn'], ['Abasyn University', 'pk'], ['Abbottabad University of Science and Technology', 'pk'], ['Abdul Wali Khan University Mardan', 'pk'], ['Abdullah Gül Üniversitesi', 'tr'], ['Abdulrahman Al-Sumait Memorial University', 'tz'], ['Abertay University', 'gb'], ['Aberystwyth University', 'gb'], ['Abhilashi University', 'in'], ['Abia State University', 'ng'], ['Abilene Christian University', 'us'], ['ABM University College', 'bw'], ['Åbo Akademi', 'fi'], ['Abourihan Higher Education Institute', 'af'], ['Abra State Institute of Science and Technology', 'ph'], ['Abraham Baldwin Agricultural College', 'us'], ['Abu Ali ibn Sino nomidagi Buxoro Davlat Tibbiyot Instituti', 'uz'], ['Abu Dhabi Polytechnic', 'ae'], ['Abu Dhabi School of Management', 'ae'], ['Abu Dhabi University', 'ae'], ['Abubakar Tafawa Balewa University', 'ng'], ['Academia de Muzica Gheorghe Dima', 'ro'], ['Academia de Muzica, Teatru si Arte Plastice', 'md'], ['Academia de Studii Economice din Bucuresti', 'ro'], ['Academia de Studii Economice din Moldova', 'md'], ['Academia Nacional Superior de Orquestra', 'pt'], ['Academia Rerum Civilium', 'cz'], ['Academic City University College', 'gh'], ['Académie des Beaux-Arts de Tournai', 'be'], ['Académie Franco-Américaine de Management', 'ga'], ['Academie voor Hoger Kunst- en Cultuuronderwijs', 'sr'], ['Academy of Art University', 'us'], ['Academy of Business and Social Development', 'kg'], ['Academy of Education of Kyrgyzstan', 'kg'], ['Academy of Labor and Social Relations', 'kg'], ['Academy of Music, Dance and Fine Arts', 'bg'], ['Academy of Public Administration under the aegis of the President of the Republic of Belarus', 'by'], ['Academy of Public Administration under the President of Kazakhstan', 'kz'], ['Academy of Public Administration under the President of the Kyrgyz Republic', 'kg'], ['Academy of Public Administration under the President of the Republic of Tajikistan', 'tj'], ['Academy of the Ministry of Internal Affairs', 'by'], ['Academy of Tourism', 'kg'], ['Acadia University', 'ca'], ['Accra Institute of Technology', 'gh'], ['Accra Technical University', 'gh'], ['Ach Medical University', 'mn'], ['Acharya N.G. Ranga Agricultural University', 'in'], ['Acharya Nagarjuna University', 'in'], ['Achievers University, Owo', 'ng'], ['Achva Academic College', 'il'], ['Acibadem Üniversitesi', 'tr'], ['Ada Kent Üniversitesi', 'cy'], ['ADA Universiteti', 'az'], ['ADAM University', 'kg'], ['Adama Science and Technology University', 'et'], ['Adamas University', 'in'], ['Adamawa State University', 'ng'], ['Adams State University', 'us'], ['Adamson University', 'ph'], ['Adana Alparslan Türkes Bilim ve Teknoloji Üniversitesi', 'tr'], ['Addis Ababa Science and Technology University', 'et'], ['Addis Ababa University', 'et'], ['Adekunle Ajasin University', 'ng'], ['Adeleke University', 'ng'], ['Adelphi University', 'us'], ['Adesh University', 'in'], ['Adigrat University', 'et'], ['Adikavi Nannaya University', 'in'], ['Adi-Keih College of Arts and Social Sciences', 'er'], ['Adiyaman Üniversitesi', 'tr'], ['Adler Graduate School', 'us'], ['Adler University', 'us'], ['Admiral Makarov National University of Shipbuilding', 'ua'], ['Admiral Makarov State University of Maritime and Inland Shipping', 'ru'], ['Admiralty University of Nigeria', 'ng'], ['Adrian College', 'us'], ['Advanced Business College', 'gh'], ['Advanced Institute of Industrial Technology', 'jp'], ['AdventHealth University', 'us'], ['Adventist International Institute of Advanced Studies', 'ph'], ['Adventist University of Africa', 'ke'], ['Adventist University of Central Africa', 'rw'], ['Adventist University of the Philippines', 'ph'], ['Adventista Teológiai Fõiskola', 'hu'], ['Adyghe State University', 'ru'], ['Aeres Hogeschool', 'nl'], ['Afe Babalola University', 'ng'], ['Afeka Tel Aviv Academic College of Engineering', 'il'], ['Afghan Pamir Higher Education Institute', 'af'], ['Afghan Swiss Medical Institute of Higher Education', 'af'], ['Africa Christian University', 'zm'], ['Africa International University', 'ke'], ['Africa Nazarene University', 'ke'], ['Africa Renewal University', 'ug'], ['Africa Research University', 'zm'], ['Africa University', 'zw'], ['African Bible University', 'ug'], ['African Leadership University, Rwanda', 'rw'], ['African Methodist Episcopal University', 'lr'], ['African Rural University', 'ug'], ['African University College of Communications', 'gh'], ['African University of Humanities and Applied Sciences', 'ly'], ['African University of Management', 'ga'], ['African University of Science and Technology', 'ng'], ['Afyon Kocatepe Üniversitesi', 'tr'], ['Aga Khan University', 'pk'], ['Agnes Scott College', 'us'], ['Agrarian and Economic College', 'kg'], ['Agri Ibrahim Çeçen Universitesi', 'tr'], ['Agricultural University of Athens', 'gr'], ['Agricultural University of Georgia', 'ge'], ['Agricultural University of Hebei', 'cn'], ['Agricultural University of Iceland', 'is'], ['Agricultural University of Plovdiv', 'bg'], ['Agriculture and Forestry University', 'np'], ['AgroParisTech', 'fr'], ['Ahfad University for Women', 'sd'], ['Ahi Evran Üniversitesi', 'tr'], ['Ahl al-Bayt University', 'iq'], ['Ahlia University', 'bh'], ['Ahlobait Institute of Higher Education', 'af'], ['Ahlul Bayt International University', 'ir'], ['Ahmadu Bello University', 'ng'], ['Ahmedabad University', 'in'], ['Ahmet Yesevi Üniversitesi', 'kz'], ['Ahram Canadian University', 'eg'], ['Ahsanullah University of Science and Technology', 'bd'], ['Ahvaz Jundishapur University of Medical Sciences', 'ir'], ['Aichi Bunkyo University', 'jp'], ['Aichi Gakuin University', 'jp'], ['Aichi Gakusen University', 'jp'], ['Aichi Institute of Technology', 'jp'], ['Aichi Medical University', 'jp'], ['Aichi Mizuho College', 'jp'], ['Aichi Prefectural University', 'jp'], ['Aichi Prefectural University of Fine Arts and Music', 'jp'], ['Aichi Sangyo University', 'jp'], ['Aichi Shukutoku University', 'jp'], ['Aichi Toho University', 'jp'], ['Aichi University', 'jp'], ['Aichi University of Education', 'jp'], ['Aichi University of Technology', 'jp'], ['Aikoku Gakuen University', 'jp'], ['Ain Shams University', 'eg'], ['Aino University', 'jp'], ['Air Force Institute of Technology', 'us'], ['Air University', 'pk'], ['Aix-Marseille Université', 'fr'], ['Ajayi Crowther University', 'ng'], ['Ajeenkya D.Y. Patil University', 'in'], ['Ajloun National Private University', 'jo'], ['Ajman University', 'ae'], ['Ajou University', 'kr'], ['Akademia e Filmit dhe Multimedias Marubi', 'al'], ['Akademia e Studimeve Albanologjike', 'al'], ['Akademia Finansów i Biznesu Vistula', 'pl'], ['Akademia Górniczo-Hutnicza', 'pl'], ['Akademia Humanistyczno-Ekonomiczna w Lodzi', 'pl'], ['Akademia Ivodent', 'al'], ['Akademia Leona Kozminskiego', 'pl'], ['Akademia Morska w Szczecinie', 'pl'], ['Akademia Muzyczna im. Feliksa Nowowiejskiego w Bydgoszczy', 'pl'], ['Akademia Muzyczna im. Grazyny i Kiejstuta Bacewiczów w Lodzi', 'pl'], ['Akademia Muzyczna im. Ignacego Jana Paderewskiego w Poznaniu', 'pl'], ['Akademia Muzyczna im. Karola Lipinskiego we Wroclawiu', 'pl'], ['Akademia Muzyczna im. Karola Szymanowskiego w Katowicach', 'pl'], ['Akademia Muzyczna im. Stanislawa Moniuszki w Gdansku', 'pl'], ['Akademia Muzyczna w Krakowie', 'pl'], ['Akademia Nauk Stosowanych im. Stanislawa Staszica w Pile', 'pl'], ['Akademia Nauk Stosowanych w Lomzy', 'pl'], ['Akademia Pedagogiki Specjalnej im. Marii Grzegorzewskiej', 'pl'], ['Akademia Polonijna w Czestochowie', 'pl'], ['Akademia Pomorska w Slupsku', 'pl'], ['Akademia Sztuk Pieknych im. Eugeniusza Gepperta we Wroclawiu', 'pl'], ['Akademia Sztuk Pieknych im. Jana Matejki w Krakowie', 'pl'], ['Akademia Sztuk Pieknych im. Wladyslawa Strzeminskiego w Lodzi', 'pl'], ['Akademia Sztuk Pieknych w Gdansku', 'pl'], ['Akademia Sztuk Pieknych w Katowicach', 'pl'], ['Akademia Sztuk Pieknych w Warszawie', 'pl'], ['Akademia Sztuk Teatralnych im. Stanislawa Wyspianskiego w Krakowie', 'pl'], ['Akademia Techniczno-Humanistyczna', 'pl'], ['Akadémia umení v Banskej Bystrici', 'sk'], ['Akademia WSB', 'pl'], ['Akademia Wychowania Fizycznego i Sportu im. Jedrzeja Sniadeckiego', 'pl'], ['Akademia Wychowania Fizycznego im. Bronislawa Czecha w Krakowie', 'pl'], ['Akademia Wychowania Fizycznego im. Eugeniusza Piaseckiego w Poznaniu', 'pl'], ['Akademia Wychowania Fizycznego im. Jerzego Kukuczki w Katowicach', 'pl'], ['Akademia Wychowania Fizycznego Józefa Pilsudskiego w Warszawie', 'pl'], ['Akademia Wychowania Fizycznego we Wroclawiu', 'pl'], ['Akademie der Bildenden Künste München', 'de'], ['Akademie der Bildenden Künste Nürnberg', 'de'], ['Akademie der Bildenden Künste Wien', 'at'], ['Akademie múzických umení v Praze', 'cz'], ['Akademie STING', 'cz'], ['Akademie výtvarných umení v Praze', 'cz'], ['Akademii Sztuki w Szczecinie', 'pl'], ['Akaki Tsereteli State University', 'ge'], ['Akal University', 'in'], ['Akdeniz Karpaz Üniversitesi', 'cy'], ['Akdeniz Üniversitesi', 'tr'], ['Akita International University', 'jp'], ['Akita Prefectural University', 'jp'], ['Akita University', 'jp'], ['Akita University of Nursing and Welfare', 'jp'], ['Akkon Hochschule für Humanwissenschaften', 'de'], ['Aklan State University', 'ph'], ['Akobo Heritage and Memorial University', 'ss'], ['AKS University', 'in'], ['Aksaray Üniversitesi', 'tr'], ['Aksum University', 'et'], ['Aktobe Regional State University', 'kz'], ['Akwa Ibom State University', 'ng'], ['Al Ain University', 'ae'], ['Al Alamein International University', 'eg'], ['Al al-Bayt University', 'jo'], ['Al Andalus University for Medical Sciences', 'sy'], ['Al Azhar University-Gaza', 'ps'], ['Al Baha University', 'sa'], ['Al Bayan University', 'iq'], ['Al Beroni University', 'af'], ['Al Dar University College (On Probation)', 'ae'], ['Al Falah University', 'ae'], ['Al Fashir University', 'sd'], ['Al Ghurair University', 'ae'], ['Al Hikma University College', 'iq'], ['Al Hussein Technical University', 'jo'], ['Al Imam Al-Ouzai University', 'lb'], ['Al Iraqia University', 'iq'], ['Al Istiqlal University', 'ps'], ['Al Jazeera University', 'ye'], ['Al Jouf University', 'sa'], ['Al Mamoun University College', 'iq'], ['Al Mustafa International University', 'ir'], ['Al Nahrain University', 'iq'], ['Al Qalam University College', 'iq'], ['Al Qasimia University', 'ae'], ['Al Rasheed International Private University for Science and Technology', 'sy'], ['Al Safwa University College', 'iq'], ['Al Sharqiyah University', 'om'], ['Al Wasl University', 'ae'], ['Al Yamamah University', 'sa'], ['Al Zaiem Al Azhari University', 'sd'], ['Alabama A&M University', 'us'], ['Alabama State University', 'us'], ['Alagappa University', 'in'], ['Al-Ahgaff University', 'ye'], ['Al-Ahliyya Amman University', 'jo'], ['Alakh Prakash Goyal Shimla University', 'in'], ['Al-Amal University College', 'iq'], ['Alandalus University for Science and Technology', 'ye'], ['Alanus Hochschule für Kunst und Gesellschaft', 'de'], ['Alanya Alaaddin Keykubat Üniversitesi', 'tr'], ['Alanya Hamdullah Emin Pasa Üniversitesi', 'tr'], ['Al-Aqsa University', 'ps'], ['Alaska Bible College', 'us'], ['Alaska Pacific University', 'us'], ['Ala-Too Uluslararasi Üniversitesi', 'kg'], ['Al-Azhar University', 'eg'], ['Al-Baath University', 'sy'], [\"Al-Balqa' Applied University\", 'jo'], ['Albany College of Pharmacy and Health Sciences', 'us'], ['Albany Law School', 'us'], ['Albany Medical College', 'us'], ['Albany State University', 'us'], ['Albaydaa University', 'ye'], ['Albert-Ludwigs-Universität Freiburg', 'de'], ['Albertus Magnus College', 'us'], ['Albion College', 'us'], ['Alborz Institute of Higher Education', 'af'], ['Albright College', 'us'], ['Al-Buraimi University College', 'om'], ['Alcorn State University', 'us'], ['Aldersgate College', 'ph'], ['Alderson Broaddus University', 'us'], ['Al-Eman University', 'ye'], ['Al-Esraa University College', 'iq'], ['Aletheia University', 'tw'], ['Alex Ekwueme Federal University, Ndufu-Alike', 'ng'], ['Alexander College', 'cy'], ['Alexandria University', 'eg'], ['Alfa BK Univerzitet', 'rs'], ['Alfaisal University', 'sa'], ['Al-Falah University', 'in'], ['Al-Farabi Kazakh National University', 'kz'], ['Al-Farahidi University', 'iq'], ['Alfred Nobel University', 'ua'], ['Alfred State College', 'us'], ['Alfred University', 'us'], ['Al-Furat Al-Awsat Technical University', 'iq'], ['Al-Furat University', 'sy'], ['Algoma University', 'ca'], ['Al-Hadba University College', 'iq'], ['Al-Hadra University of Humanities and Applied Sciences', 'ly'], ['Al-Hamd Islamic University', 'pk'], ['Al-Hawash Private University', 'sy'], ['Al-Hikma University', 'ye'], ['Al-Hikmah University', 'ng'], ['Al-Hussain University College', 'iq'], ['Al-Hussein Bin Talal University', 'jo'], ['Ali Institute of Education', 'pk'], ['Aliah University', 'in'], ['Alice Lloyd College', 'us'], ['Alice Salomon Hochschule Berlin', 'de'], ['Aligarh Muslim University', 'in'], ['Al-Imam Muhammad Ibn Saud Islamic University', 'sa'], ['Al-Imam University College', 'iq'], [\"Alisher Navoiy nomidagi Toshkent davlat o'zbek tili va adabiyoti universiteti\", 'uz'], ['Al-Jafra University', 'ly'], ['Aljazeera University', 'sy'], ['Al-Karkh University of Science', 'iq'], ['Al-Kitab University', 'iq'], ['Al-Kunooze University College', 'iq'], ['Al-Kut University College', 'iq'], ['All India Institute of Medical Sciences Bhopal', 'in'], ['All India Institute of Medical Sciences Bhubaneswar', 'in'], ['All India Institute of Medical Sciences Delhi', 'in'], ['All India Institute of Medical Sciences Jodhpur', 'in'], ['All India Institute of Medical Sciences Patna', 'in'], ['All India Institute of Medical Sciences Raipur', 'in'], ['All India Institute of Medical Sciences Rishikesh', 'in'], ['All Nations University', 'gh'], ['All Saints University Lango', 'ug'], ['Allameh Institute of Higher Education', 'af'], ['Allameh Mohaddes Nouri University', 'ir'], [\"Allameh Tabataba'i University\", 'ir'], ['Allegheny College', 'us'], ['Allen College', 'us'], ['Allen University', 'us'], ['Allensbach Hochschule Konstanz', 'de'], ['Alliance University', 'in'], ['Alliant International University', 'us'], ['Alma College', 'us'], ['Alma Mater Europaea', 'si'], ['Al-Maarif University College', 'iq'], ['Al-Madinah International University', 'my'], ['Al-Mansour University College', 'iq'], ['Almaty Academy of Economics and Statistics', 'kz'], ['Almaty Management University', 'kz'], ['Almaty Technological University', 'kz'], ['Almaty Transport College of KazATK named after M. Tynyshpayev', 'kz'], ['Almaty University', 'kz'], ['Almaty University of Power Engineering and Telecommunications', 'kz'], ['AlMughtaribeen University', 'sd'], ['Al-Mustafa University College', 'iq'], ['Al-Muthanna University', 'iq'], ['Al-Nasser University', 'ye'], ['Al-Nisour University College', 'iq'], ['Al-Noor University College', 'iq'], ['Al-Nukhba University College', 'iq'], ['Alpen-Adria-Universität Klagenfurt', 'at'], ['Al-Qalam University, Katsina', 'ng'], ['Al-Qasim Green University', 'iq'], ['Al-Quds University', 'ps'], ['Al-Rafaq National University', 'ly'], ['Al-Rafidain University College', 'iq'], ['Al-Rasheed University College', 'iq'], ['Al-Rayan University', 'ye'], ['Al-Razi University', 'ye'], ['Al-Saeeda University', 'ye'], ['Alsalam University', 'sd'], ['Al-Shahbaa University', 'sy'], ['Al-Sham Private University', 'sy'], ['Al-Taff University College', 'iq'], ['Al-Tahadi National Medical University', 'ly'], ['Altai State Academy of Education', 'ru'], ['Altai State Medical University', 'ru'], ['Altai State Pedagogical Academy', 'ru'], ['Altai State University', 'ru'], ['Altai State University of Agriculture', 'ru'], ['Al-taqwa Institute of Higher Education', 'af'], ['Alte University', 'ge'], ['Altinbas Üniversitesi', 'tr'], ['Altoosi University College', 'iq'], ['Al-Turath University College', 'iq'], ['Alvernia University', 'us'], ['Alverno College', 'us'], ['Al-Wataniya Private University', 'sy'], ['Alyarmok University College', 'iq'], ['Alytaus kolegija', 'lt'], ['Al-Zahra College for Women', 'om'], ['Alzahra University', 'ir'], ['Al-Zahrawi University College', 'iq'], ['Al-Zaytoonah University of Jordan', 'jo'], ['AMA Computer University', 'ph'], ['Amasya Üniversitesi', 'tr'], ['Ambassador International University', 'zm'], ['Ambedkar University Delhi', 'in'], ['Amberton University', 'us'], ['Ambo University', 'et'], ['Ambrose Alli University', 'ng'], ['Ambrose University', 'ca'], ['AMD Akademie Mode and Design', 'de'], ['American Baptist College', 'us'], ['American College', 'cy'], ['American College of Dubai (On Probation)', 'ae'], ['American Film Institute Conservatory', 'us'], ['American International College', 'us'], ['American International School of Medicine', 'gy'], ['American International University West Africa', 'gm'], ['American International University-Bangladesh', 'bd'], ['American Jewish University', 'us'], ['American University', 'us'], ['American University in Bulgaria', 'bg'], ['American University in Dubai', 'ae'], ['American University in North Africa', 'tn'], ['American University in the Emirates', 'ae'], ['American University of Antigua', 'ag'], ['American University of Armenia', 'am'], ['American University of Barbados', 'bb'], ['American University of Beirut', 'lb'], ['American University of Central Asia', 'kg'], ['American University of Culture and Education', 'lb'], ['American University of Europe', 'mk'], ['American University of Integrative Sciences', 'bb'], ['American University of Kuwait', 'kw'], ['American University of Madaba', 'jo'], ['American University of Malta', 'mt'], ['American University of Nigeria', 'ng'], ['American University of Phnom Penh', 'kh'], ['American University of Puerto Rico', 'pr'], ['American University of Ras Al Khaimah', 'ae'], ['American University of Science and Technology', 'lb'], ['American University of Sharjah', 'ae'], ['American University of Technology', 'lb'], ['American University of the Caribbean', 'ht'], ['American University of the Caribbean - School of Medicine', 'sx'], ['Americki Univerzitet u Bosni i Hercegovini', 'ba'], ['Amherst College', 'us'], ['Amirkabir University of Technology', 'ir'], ['Amity University', 'in'], ['Amity University Dubai', 'ae'], ['Amman Arab University', 'jo'], ['Ammon Applied University College', 'jo'], ['Amran University', 'ye'], ['Amref International University', 'ke'], ['Amrita Vishwa Vidyapeetham', 'in'], ['Amsterdamse Hogeschool voor de Kunsten', 'nl'], ['Amur State Medical Academy', 'ru'], ['Amur State University', 'ru'], ['Amur State University of Humanities and Pedagogy', 'ru'], ['Anadolu Üniversitesi', 'tr'], ['Anand Agricultural University', 'in'], ['Anania Shirakatsi University of International Relations', 'am'], ['Anant National University', 'in'], ['Anchor University, Lagos', 'ng'], ['Anderson University', 'us'], ['Anderson University, Indiana', 'us'], ['Andhra University', 'in'], ['Andijon Davlat Tibbiyot Instituti', 'uz'], ['Andijon Davlat Universiteti', 'uz'], ['Andijon Mashinasozlik Instituti', 'uz'], [\"Andijon Qishloq Xo'jalik Instituti\", 'uz'], ['Andong National University', 'kr'], ['Andrássy Universität Budapest', 'hu'], ['Andrews University', 'us'], ['Angarsk State Technical University', 'ru'], ['Angel Kanchev University of Ruse', 'bg'], ['Angeles University Foundation', 'ph'], ['Angelo State University', 'us'], ['Angkor Khemara University', 'kh'], ['Angkor University', 'kh'], ['Anglia Ruskin University', 'gb'], ['Anglican University College of Technology', 'gh'], ['Anglo-americká vysoká škola', 'cz'], ['Anhui Agricultural University', 'cn'], ['Anhui Institute of Information Technology', 'cn'], ['Anhui International Studies University', 'cn'], ['Anhui Jianzhu University', 'cn'], ['Anhui Medical University', 'cn'], ['Anhui Normal University', 'cn'], ['Anhui Polytechnic University', 'cn'], ['Anhui Sanlian University', 'cn'], ['Anhui Science and Technology University', 'cn'], ['Anhui University', 'cn'], ['Anhui University of Chinese Medicine', 'cn'], ['Anhui University of Finance and Economics', 'cn'], ['Anhui University of Science and Technology', 'cn'], ['Anhui University of Technology', 'cn'], ['Anhui Wonder University of Information Engineering', 'cn'], ['Anhui Xinhua University', 'cn'], ['Anka Teknoloji Üniversitesi', 'tr'], ['Ankang University', 'cn'], ['Ankara Sosyal Bilimler Üniversitesi', 'tr'], ['Ankara Üniversitesi', 'tr'], ['Ankara Yildirim Beyazit Üniversitesi', 'tr'], ['Ankole Western University', 'ug'], ['Anna Maria College', 'us'], ['Anna University', 'in'], ['An-Najah National University', 'ps'], ['Annamalai University', 'in'], ['Anqing Normal University', 'cn'], ['Anshan Normal University', 'cn'], ['Anshun University', 'cn'], ['Antalya Akev Üniversitesi', 'tr'], ['Antalya Bilim Üniversitesi', 'tr'], ['Antioch University', 'us'], ['Antioch University Los Angeles', 'us'], ['Antioch University New England', 'us'], ['Antioch University Santa Barbara', 'us'], ['Antioch University Seattle', 'us'], ['Anton Bruckner Privatuniversität', 'at'], ['Anton de Kom Universiteit van Suriname', 'sr'], ['Antwerp Management School', 'be'], ['Anwer Khan Modern University', 'bd'], ['Anyang Institute of Technology', 'cn'], ['Anyang Normal University', 'cn'], ['Anyang University', 'cn'], ['Anyang University', 'kr'], ['Aomori Chuo Gakuin University', 'jp'], ['Aomori Public University', 'jp'], ['Aomori University', 'jp'], ['Aomori University of Health and Welfare', 'jp'], ['Aoyama Gakuin University', 'jp'], ['AP Hogeschool Antwerpen', 'be'], ['Apeejay Stya University', 'in'], ['Apex Professional University', 'in'], ['Apex University', 'in'], ['APJ Abdul Kalam Technological University', 'in'], ['Appalachian Bible College', 'us'], ['Appalachian College of Pharmacy', 'us'], ['Appalachian State University', 'us'], ['Applied Science Private University', 'jo'], ['Applied Science University', 'bh'], ['Aqaba University of Technology', 'jo'], ['Aquinas College', 'us'], ['Aquinas College, Tennessee', 'us'], ['Aquinas University of Legazpi', 'ph'], ['Arab Academy for Science, Technology and Maritime Transport', 'eg'], ['Arab American University', 'ps'], ['Arab College of Applied Sciences', 'ps'], ['Arab International University', 'sy'], ['Arab Open University Lebanon', 'lb'], ['Arab University for Science and Technology', 'ye'], ['Arab University of Science and Technology', 'sy'], ['Arabian Gulf University', 'bh'], ['Arak University', 'ir'], ['Arak University of Medical Sciences', 'ir'], ['Arak University of Technology', 'ir'], ['Arba Minch University', 'et'], ['Arcadia University', 'us'], ['Architectural Institute in Prague', 'cz'], ['Arctic State Agrotechnological University', 'ru'], ['Ardabil University of Medical Sciences', 'ir'], ['Ardahan Üniversitesi', 'tr'], ['Ardakan University', 'ir'], ['Ardhi University', 'tz'], ['Arellano University', 'ph'], ['Aria University', 'af'], ['Ariana Institute of Higher Education', 'af'], ['Ariel University', 'il'], ['Arish University', 'eg'], ['Aristotle University of Thessaloniki', 'gr'], ['Arizona Christian University', 'us'], ['Arizona State University', 'us'], ['Arka Jain University', 'in'], ['Arkalyk State Pedagogical Institute', 'kz'], ['Arkansas Baptist College', 'us'], ['Arkansas State University', 'us'], ['Arkansas Tech University', 'us'], ['Arkin Yaratici Sanatlar ve Tasarim Üniversitesi', 'cy'], ['Arkitektskolen Aarhus', 'dk'], ['Arkitektur- og designhøgskolen i Oslo', 'no'], ['Arlington Baptist University', 'us'], ['Armavir State Pedagogical University', 'ru'], ['Armenian Medical Institute', 'am'], ['Armenian National Agrarian University', 'am'], ['Armenian State Institute of Physical Culture', 'am'], ['Armenian State Pedagogical University', 'am'], ['Armenian State University of Economics', 'am'], ['Arni University', 'in'], ['Arrupe Jesuit University', 'zw'], ['Art Academy of Cincinnati', 'us'], ['Art and Design Institut', 'cz'], ['Art University of Isfahan', 'ir'], ['ArtCenter College of Design', 'us'], ['Arte A.C.', 'mx'], ['ARTE Music Academy', 'cy'], ['Arteveldehogeschool', 'be'], ['ArtEZ Hogeschool voor de kunsten', 'nl'], ['ArtHouse - Šola za risanje in slikanje', 'si'], ['Arthur Jarvis University', 'ng'], ['Arts et Métiers ParisTech', 'fr'], ['Arts University Bournemouth', 'gb'], ['Arts, Sciences and Technology University in Lebanon', 'lb'], ['Arts² - École supérieure des Arts', 'be'], ['Artsakh State University', 'am'], ['Artvin Çoruh Üniversitesi', 'tr'], ['Arunachal University of Studies', 'in'], ['Arunodaya University', 'in'], ['Aryabhatta Knowledge University', 'in'], ['ASA University Bangladesh', 'bd'], ['Asahi University', 'jp'], ['Asahikawa Medical University', 'jp'], ['Asahikawa University', 'jp'], ['Asbury University', 'us'], ['Ashesi University', 'gh'], ['Ashikaga Institute of Technology', 'jp'], ['Ashiya University', 'jp'], ['Ashkelon Academic College', 'il'], ['Ashland University', 'us'], ['Ashna Institute of Higher Education', 'af'], ['Ashoka University', 'in'], ['Asia e University', 'my'], ['Asia Euro University', 'kh'], ['Asia Pacific College', 'ph'], ['Asia University', 'jp'], ['Asia University, Taiwan', 'tw'], ['Asian Institute of Journalism and Communication', 'ph'], ['Asian Institute of Management', 'ph'], ['Asian Institute of Maritime Studies', 'ph'], ['Asian Institute of Technology', 'th'], ['Asian Medical Institute', 'kg'], ['Asian Social Institute', 'ph'], ['Asian University for Women', 'bd'], ['Asian University of Bangladesh', 'bd'], ['Asia-Pacific International University', 'th'], ['Asmara College of Health Sciences', 'er'], ['Asmarya University for Islamic Sciences', 'ly'], ['Assam Agricultural University', 'in'], ['Assam Don Bosco University', 'in'], ['Assam Down Town University', 'in'], ['Assam Rajiv Gandhi University of Cooperative Management', 'in'], ['Assam Science and Technology University', 'in'], ['Assam University', 'in'], [\"Assam Women's University\", 'in'], ['Assiut University', 'eg'], ['Assosa University', 'et'], ['Assumption College', 'us'], ['Assumption College San Lorenzo', 'ph'], ['Assumption University', 'th'], ['Astana Medical University', 'kz'], ['Astana University', 'kz'], ['Aston University', 'gb'], ['Astrakhan State Conservatory', 'ru'], ['Astrakhan State Medical Academy', 'ru'], ['Astrakhan State Technical University', 'ru'], ['Astrakhan State University', 'ru'], ['Aswan University', 'eg'], ['Atal Bihari Vajpayee Hindi Vishwavidyalaya', 'in'], ['Atal Bihari Vajpayee Vishwavidyalaya', 'in'], ['Atatürk Üniversitesi', 'tr'], ['Ateneo de Davao University', 'ph'], ['Ateneo de Manila University', 'ph'], ['Ateneo de Naga University', 'ph'], ['Ateneo de Zamboanga University', 'ph'], ['Athens School of Fine Arts', 'gr'], ['Athens State University', 'us'], ['Athens University of Economics and Business', 'gr'], ['Athlone Institute of Technology', 'ie'], ['Atiba University', 'ng'], ['Atilim Üniversitesi', 'tr'], ['Atish Dipankar University of Science and Technology', 'bd'], ['Atlanta Metropolitan State College', 'us'], ['Atlantis College', 'cy'], ['Atmiya University', 'in'], ['Atomi University', 'jp'], ['Atyrau Institute of Engineering and Humanities', 'kz'], ['Atyrau State University', 'kz'], ['Atyrau University of Oil and Gas', 'kz'], ['Auburn University', 'us'], ['Auburn University at Montgomery', 'us'], ['Auckland University of Technology', 'nz'], ['Audencia Business School', 'fr'], ['Auezov South Kazakhstan State University', 'kz'], ['Augsburg University', 'us'], ['Augusta University', 'us'], ['Augustana College', 'us'], ['Augustana University', 'us'], ['Augustana-Hochschule', 'de'], ['Augustine University', 'ng'], ['Aureus University School of Medicine', 'aw'], ['AURO University', 'in'], ['Aurora College', 'ca'], ['Aurora State College of Technology', 'ph'], ['Aurora University', 'us'], ['Austin College', 'us'], ['Austin Peay State University', 'us'], ['Australian Catholic University', 'au'], ['Australian College of Kuwait', 'kw'], ['Australian National University', 'au'], ['Avance International University', 'ug'], ['AVANS Hogeschool', 'nl'], ['Avantika University', 'in'], ['Avarga Institute', 'mn'], ['Ave Maria University', 'us'], ['Averett University', 'us'], ['Avicenna University', 'af'], ['Avignon Université', 'fr'], ['Avila University', 'us'], ['Avinashilingam University', 'in'], ['Avrasya Üniversitesi', 'tr'], ['Awadhesh Pratap Singh University', 'in'], ['Ayatollah Borujerdi University', 'ir'], ['Aydin Adnan Menderes Üniversitesi', 'tr'], ['Ayush and Health Sciences University of Chhattisgarh', 'in'], ['Azabu University', 'jp'], ['Azal University of Human Development', 'ye'], ['Azal University of Science and Technology', 'ye'], ['Azarbaijan Shahid Madani University', 'ir'], ['Azerbaycan Diller Universiteti', 'az'], ['Azerbaycan Dövlet Aqrar Universiteti', 'az'], ['Azerbaycan Dövlet Beden Terbiyesi ve Idman Akademiyasi', 'az'], ['Azerbaycan Dövlet Deniz Akademiyasi', 'az'], ['Azerbaycan Dövlet Iqtisad Universiteti', 'az'], ['Azerbaycan Dövlet Medeniyyet ve Incesenet Universiteti', 'az'], ['Azerbaycan Dövlet Neft ve Senaye Universiteti', 'az'], ['Azerbaycan Dövlet Pedaqoji Universiteti', 'az'], ['Azerbaycan Dövlet Ressamliq Akademiyasi', 'az'], ['Azerbaycan Emek ve Sosial Münasibetler Akademiyasi', 'az'], ['Azerbaycan Memarliq ve Insaat Universiteti', 'az'], ['Azerbaycan Milli Konservatoriyasi', 'az'], ['Azerbaycan Texniki Universiteti', 'az'], ['Azerbaycan Texnologiya Universiteti', 'az'], ['Azerbaycan Tibb Universiteti', 'az'], ['Azerbaycan Turizm ve Menecment Universiteti', 'az'], ['Azerbaycan Universiteti', 'az'], ['Azhar Higher Education Institute', 'af'], ['Azim Premji University', 'in'], ['Azrieli College of Engineering Jerusalem', 'il'], ['Azusa Pacific University', 'us'], ['Azzaytuna University', 'ly']]\n"
     ]
    }
   ],
   "source": [
    "#get the table\n",
    "universities_table = html_soup.find('table', class_='table table-hover text-left')\n",
    "# print(table)\n",
    "\n",
    "row_data = []\n",
    "\n",
    "for i in range(1, 2):\n",
    "    for row in universities_table.find_all('tr'):\n",
    "        col = row.find_all('td')\n",
    "        col = [ele.text.strip()for ele in col]\n",
    "        row_data.append(col)\n",
    "    browser.links.find_by_partial_text('Next').click()\n",
    "#   browser.find_element(\"xpath\",'//div[contains(@class,\"abgac\") and @aria-hidden]//button[@title=\"Close\"]').click()\n",
    "  \n",
    "print(row_data)\n",
    "\n",
    "\n"
   ]
  },
  {
   "cell_type": "code",
   "execution_count": 7,
   "id": "19bff5e2",
   "metadata": {},
   "outputs": [],
   "source": [
    "\n",
    "#     driver.find_element_by_xpath('//div[contains(@class,\"abgac\") and @aria-descri\n",
    "\n",
    "#     #handle popup\n",
    "#     html = browser.html\n",
    "#     html_soup = soup(html, 'html.parser')\n",
    "#     html_soup\n",
    "#     browser.links.find_by_partial_text('Close').click()\n",
    "\n",
    "\n",
    "#  #wait for pop up and close\n",
    "#     wait = WebDriverWait(executable_path, 20)\n",
    "#     wait.until(EC.element_to_be_clickable((By.XPATH, \"//a[@title='Close']\"))).click()\n",
    "\n",
    "\n",
    "\n",
    "# for x in range(1, 1):\n",
    "#    html = browser.html\n",
    "#    college_name_soup = soup(html, 'html.parser')\n",
    "#    college_name = college_name_soup.find_all('table', class_='table table-hover text-left')\n",
    "#    for name in college_name:\n",
    "#       print('page:', x, '----------')\n",
    "#       print(college_name.text)\n",
    "#    browser.links.find_by_partial_text('Next').click()\n",
    "\n",
    "\n",
    "\n",
    "\n",
    "\n",
    "\n",
    "\n",
    "\n",
    "\n",
    "# df = pd.read_html()[0]\n",
    "# df.columns=['University', 'Country']\n",
    "# df.set_index('University', inplace=True)\n",
    "# df\n",
    "\n",
    "\n",
    "\n",
    "\n",
    "\n",
    "# #get headers\n",
    "# headers = []\n",
    "# for i in table.find_all('th'):\n",
    "#     title = i.text\n",
    "#     headers.append(title)\n",
    "# # print(headers)\n",
    "\n",
    "# #create dictionary for data\n",
    "# college_data = {}\n",
    "\n",
    "# #create a dataframe for universities\n",
    "# df = pd.DataFrame(columns = headers)\n",
    "\n",
    "# #loop through each page for each letter of the alphebet\n",
    "\n",
    "# #fetch data from table\n",
    "# for row in table.find_all('tr')[1:]:\n",
    "#     data = row.find_all('td')\n",
    "#     row_data = [td.text.strip()for td in data]\n",
    "# college_data.append(row_data)\n",
    "# print(college_data)    \n",
    "\n",
    "\n",
    "    \n",
    "#     length = len(df)\n",
    "#   df.loc[length] = row_data    \n",
    "# df\n",
    "\n",
    "# for x in range(1, 1):\n",
    "#    html = browser.html\n",
    "#    college_name_soup = soup(html, 'html.parser')\n",
    "#    college_name = college_name_soup.find_all('table', class_='table table-hover text-left')\n",
    "#    for name in college_name:\n",
    "#       print('page:', x, '----------')\n",
    "#       print(college_name.text)\n",
    "#    browser.links.find_by_partial_text('Next').click()\n",
    "\n",
    "# for x in range(1,1):\n",
    "#    html = browser.html\n",
    "#    quote_soup = soup(html, 'html.parser')\n",
    "#    quotes = quote_soup.find_all('span', class_='text')\n",
    "#    for quote in quotes:\n",
    "#       print('page:', x, '----------')\n",
    "#       print(quote.text)\n",
    "#    browser.links.find_by_partial_text('Next').click()"
   ]
  }
 ],
 "metadata": {
  "kernelspec": {
   "display_name": "Python 3 (ipykernel)",
   "language": "python",
   "name": "python3"
  },
  "language_info": {
   "codemirror_mode": {
    "name": "ipython",
    "version": 3
   },
   "file_extension": ".py",
   "mimetype": "text/x-python",
   "name": "python",
   "nbconvert_exporter": "python",
   "pygments_lexer": "ipython3",
   "version": "3.9.12"
  }
 },
 "nbformat": 4,
 "nbformat_minor": 5
}
