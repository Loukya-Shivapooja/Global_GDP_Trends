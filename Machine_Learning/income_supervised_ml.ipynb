{
 "cells": [
  {
   "cell_type": "code",
   "execution_count": 1,
   "id": "016123a2",
   "metadata": {},
   "outputs": [],
   "source": [
    "import numpy as np\n",
    "import pandas as pd\n",
    "from pathlib import Path\n",
    "from collections import Counter\n",
    "import os\n",
    "from sklearn.preprocessing import LabelEncoder \n",
    "from imblearn.ensemble import BalancedRandomForestClassifier\n",
    "\n",
    "\n",
    "import warnings\n",
    "warnings.filterwarnings('ignore')"
   ]
  },
  {
   "cell_type": "code",
   "execution_count": 2,
   "id": "6da8e14a",
   "metadata": {},
   "outputs": [],
   "source": [
    "le = LabelEncoder()"
   ]
  },
  {
   "cell_type": "code",
   "execution_count": 3,
   "id": "59fde0fe",
   "metadata": {},
   "outputs": [],
   "source": [
    "from sklearn.metrics import balanced_accuracy_score\n",
    "from sklearn.metrics import confusion_matrix\n",
    "from imblearn.metrics import classification_report_imbalanced\n",
    "from sklearn.preprocessing import StandardScaler\n",
    "from sklearn.metrics import confusion_matrix, accuracy_score, classification_report\n",
    "from imblearn.ensemble import BalancedRandomForestClassifier, EasyEnsembleClassifier"
   ]
  },
  {
   "cell_type": "markdown",
   "id": "07c42396",
   "metadata": {},
   "source": [
    "## Read in Data and preform basic cleaning \n"
   ]
  },
  {
   "cell_type": "code",
   "execution_count": 4,
   "id": "a7b4c68e",
   "metadata": {},
   "outputs": [],
   "source": [
    "file_path = Path(\"Resources/world_2019_data.csv\")"
   ]
  },
  {
   "cell_type": "code",
   "execution_count": 5,
   "id": "8792fe2d",
   "metadata": {},
   "outputs": [
    {
     "data": {
      "text/html": [
       "<div>\n",
       "<style scoped>\n",
       "    .dataframe tbody tr th:only-of-type {\n",
       "        vertical-align: middle;\n",
       "    }\n",
       "\n",
       "    .dataframe tbody tr th {\n",
       "        vertical-align: top;\n",
       "    }\n",
       "\n",
       "    .dataframe thead th {\n",
       "        text-align: right;\n",
       "    }\n",
       "</style>\n",
       "<table border=\"1\" class=\"dataframe\">\n",
       "  <thead>\n",
       "    <tr style=\"text-align: right;\">\n",
       "      <th></th>\n",
       "      <th>country_name</th>\n",
       "      <th>country_code</th>\n",
       "      <th>h_2019</th>\n",
       "      <th>edu_2019</th>\n",
       "      <th>e_2019</th>\n",
       "      <th>con_2019</th>\n",
       "      <th>inf_2019</th>\n",
       "      <th>une_2019</th>\n",
       "      <th>p_2019</th>\n",
       "      <th>g_2019</th>\n",
       "      <th>income_group</th>\n",
       "    </tr>\n",
       "  </thead>\n",
       "  <tbody>\n",
       "    <tr>\n",
       "      <th>0</th>\n",
       "      <td>Angola</td>\n",
       "      <td>AGO</td>\n",
       "      <td>2.53</td>\n",
       "      <td>2.923862e+09</td>\n",
       "      <td>2.827171e+10</td>\n",
       "      <td>4.057062e+10</td>\n",
       "      <td>17.08</td>\n",
       "      <td>7.42</td>\n",
       "      <td>31825299</td>\n",
       "      <td>-0.70</td>\n",
       "      <td>Low income</td>\n",
       "    </tr>\n",
       "    <tr>\n",
       "      <th>1</th>\n",
       "      <td>Armenia</td>\n",
       "      <td>ARM</td>\n",
       "      <td>11.34</td>\n",
       "      <td>3.161166e+08</td>\n",
       "      <td>5.631686e+09</td>\n",
       "      <td>1.307507e+10</td>\n",
       "      <td>1.44</td>\n",
       "      <td>18.30</td>\n",
       "      <td>2957728</td>\n",
       "      <td>7.60</td>\n",
       "      <td>High income</td>\n",
       "    </tr>\n",
       "    <tr>\n",
       "      <th>2</th>\n",
       "      <td>Australia</td>\n",
       "      <td>AUS</td>\n",
       "      <td>9.91</td>\n",
       "      <td>6.777152e+10</td>\n",
       "      <td>3.364310e+11</td>\n",
       "      <td>1.033080e+12</td>\n",
       "      <td>1.61</td>\n",
       "      <td>5.16</td>\n",
       "      <td>25365745</td>\n",
       "      <td>2.11</td>\n",
       "      <td>High income</td>\n",
       "    </tr>\n",
       "    <tr>\n",
       "      <th>3</th>\n",
       "      <td>Austria</td>\n",
       "      <td>AUT</td>\n",
       "      <td>10.43</td>\n",
       "      <td>2.241872e+10</td>\n",
       "      <td>2.467240e+11</td>\n",
       "      <td>3.160610e+11</td>\n",
       "      <td>1.53</td>\n",
       "      <td>4.49</td>\n",
       "      <td>8879920</td>\n",
       "      <td>1.49</td>\n",
       "      <td>High income</td>\n",
       "    </tr>\n",
       "    <tr>\n",
       "      <th>4</th>\n",
       "      <td>Azerbaijan</td>\n",
       "      <td>AZE</td>\n",
       "      <td>4.04</td>\n",
       "      <td>1.178561e+09</td>\n",
       "      <td>2.362976e+10</td>\n",
       "      <td>3.306206e+10</td>\n",
       "      <td>2.61</td>\n",
       "      <td>4.85</td>\n",
       "      <td>10024283</td>\n",
       "      <td>2.50</td>\n",
       "      <td>High income</td>\n",
       "    </tr>\n",
       "    <tr>\n",
       "      <th>...</th>\n",
       "      <td>...</td>\n",
       "      <td>...</td>\n",
       "      <td>...</td>\n",
       "      <td>...</td>\n",
       "      <td>...</td>\n",
       "      <td>...</td>\n",
       "      <td>...</td>\n",
       "      <td>...</td>\n",
       "      <td>...</td>\n",
       "      <td>...</td>\n",
       "      <td>...</td>\n",
       "    </tr>\n",
       "    <tr>\n",
       "      <th>123</th>\n",
       "      <td>Ukraine</td>\n",
       "      <td>UKR</td>\n",
       "      <td>7.10</td>\n",
       "      <td>7.662706e+09</td>\n",
       "      <td>6.344856e+10</td>\n",
       "      <td>1.433540e+11</td>\n",
       "      <td>7.89</td>\n",
       "      <td>8.19</td>\n",
       "      <td>44386203</td>\n",
       "      <td>3.20</td>\n",
       "      <td>Low income</td>\n",
       "    </tr>\n",
       "    <tr>\n",
       "      <th>124</th>\n",
       "      <td>Uruguay</td>\n",
       "      <td>URY</td>\n",
       "      <td>9.35</td>\n",
       "      <td>2.774959e+09</td>\n",
       "      <td>1.699176e+10</td>\n",
       "      <td>4.865871e+10</td>\n",
       "      <td>7.88</td>\n",
       "      <td>8.88</td>\n",
       "      <td>3461731</td>\n",
       "      <td>0.35</td>\n",
       "      <td>High income</td>\n",
       "    </tr>\n",
       "    <tr>\n",
       "      <th>125</th>\n",
       "      <td>United States</td>\n",
       "      <td>USA</td>\n",
       "      <td>16.77</td>\n",
       "      <td>9.540000e+11</td>\n",
       "      <td>2.519730e+12</td>\n",
       "      <td>1.740260e+13</td>\n",
       "      <td>1.81</td>\n",
       "      <td>3.67</td>\n",
       "      <td>328329953</td>\n",
       "      <td>2.29</td>\n",
       "      <td>High income</td>\n",
       "    </tr>\n",
       "    <tr>\n",
       "      <th>126</th>\n",
       "      <td>Vanuatu</td>\n",
       "      <td>VUT</td>\n",
       "      <td>3.36</td>\n",
       "      <td>4.506711e+07</td>\n",
       "      <td>4.714967e+08</td>\n",
       "      <td>7.126577e+08</td>\n",
       "      <td>2.76</td>\n",
       "      <td>1.80</td>\n",
       "      <td>299882</td>\n",
       "      <td>3.24</td>\n",
       "      <td>Low income</td>\n",
       "    </tr>\n",
       "    <tr>\n",
       "      <th>127</th>\n",
       "      <td>South Africa</td>\n",
       "      <td>ZAF</td>\n",
       "      <td>9.11</td>\n",
       "      <td>2.199966e+10</td>\n",
       "      <td>1.060700e+11</td>\n",
       "      <td>3.236180e+11</td>\n",
       "      <td>4.12</td>\n",
       "      <td>28.47</td>\n",
       "      <td>58558267</td>\n",
       "      <td>0.11</td>\n",
       "      <td>High income</td>\n",
       "    </tr>\n",
       "  </tbody>\n",
       "</table>\n",
       "<p>128 rows × 11 columns</p>\n",
       "</div>"
      ],
      "text/plain": [
       "      country_name country_code  h_2019      edu_2019        e_2019  \\\n",
       "0           Angola          AGO    2.53  2.923862e+09  2.827171e+10   \n",
       "1          Armenia          ARM   11.34  3.161166e+08  5.631686e+09   \n",
       "2        Australia          AUS    9.91  6.777152e+10  3.364310e+11   \n",
       "3          Austria          AUT   10.43  2.241872e+10  2.467240e+11   \n",
       "4       Azerbaijan          AZE    4.04  1.178561e+09  2.362976e+10   \n",
       "..             ...          ...     ...           ...           ...   \n",
       "123        Ukraine          UKR    7.10  7.662706e+09  6.344856e+10   \n",
       "124        Uruguay          URY    9.35  2.774959e+09  1.699176e+10   \n",
       "125  United States          USA   16.77  9.540000e+11  2.519730e+12   \n",
       "126        Vanuatu          VUT    3.36  4.506711e+07  4.714967e+08   \n",
       "127   South Africa          ZAF    9.11  2.199966e+10  1.060700e+11   \n",
       "\n",
       "         con_2019  inf_2019  une_2019     p_2019  g_2019 income_group  \n",
       "0    4.057062e+10     17.08      7.42   31825299   -0.70   Low income  \n",
       "1    1.307507e+10      1.44     18.30    2957728    7.60  High income  \n",
       "2    1.033080e+12      1.61      5.16   25365745    2.11  High income  \n",
       "3    3.160610e+11      1.53      4.49    8879920    1.49  High income  \n",
       "4    3.306206e+10      2.61      4.85   10024283    2.50  High income  \n",
       "..            ...       ...       ...        ...     ...          ...  \n",
       "123  1.433540e+11      7.89      8.19   44386203    3.20   Low income  \n",
       "124  4.865871e+10      7.88      8.88    3461731    0.35  High income  \n",
       "125  1.740260e+13      1.81      3.67  328329953    2.29  High income  \n",
       "126  7.126577e+08      2.76      1.80     299882    3.24   Low income  \n",
       "127  3.236180e+11      4.12     28.47   58558267    0.11  High income  \n",
       "\n",
       "[128 rows x 11 columns]"
      ]
     },
     "execution_count": 5,
     "metadata": {},
     "output_type": "execute_result"
    }
   ],
   "source": [
    "df = pd.read_csv(file_path)\n",
    "df"
   ]
  },
  {
   "cell_type": "code",
   "execution_count": 6,
   "id": "897c0552",
   "metadata": {},
   "outputs": [],
   "source": [
    "# #drop string columns\n",
    "# df = df.drop(columns=[\"country_name\", \"country_code\"])\n",
    "# df"
   ]
  },
  {
   "cell_type": "code",
   "execution_count": 7,
   "id": "3961affb",
   "metadata": {},
   "outputs": [
    {
     "data": {
      "text/plain": [
       "country_name     object\n",
       "country_code     object\n",
       "h_2019          float64\n",
       "edu_2019        float64\n",
       "e_2019          float64\n",
       "con_2019        float64\n",
       "inf_2019        float64\n",
       "une_2019        float64\n",
       "p_2019            int64\n",
       "g_2019          float64\n",
       "income_group     object\n",
       "dtype: object"
      ]
     },
     "execution_count": 7,
     "metadata": {},
     "output_type": "execute_result"
    }
   ],
   "source": [
    "#check data types\n",
    "df.dtypes"
   ]
  },
  {
   "cell_type": "code",
   "execution_count": 8,
   "id": "1034461a",
   "metadata": {},
   "outputs": [],
   "source": [
    "#encode y column\n",
    "df['income_group'] = le.fit_transform(df['income_group'])"
   ]
  },
  {
   "cell_type": "code",
   "execution_count": 9,
   "id": "42f782cc",
   "metadata": {},
   "outputs": [
    {
     "data": {
      "text/plain": [
       "0      1\n",
       "1      0\n",
       "2      0\n",
       "3      0\n",
       "4      0\n",
       "      ..\n",
       "123    1\n",
       "124    0\n",
       "125    0\n",
       "126    1\n",
       "127    0\n",
       "Name: income_group, Length: 128, dtype: int32"
      ]
     },
     "execution_count": 9,
     "metadata": {},
     "output_type": "execute_result"
    }
   ],
   "source": [
    "#define Varibles\n",
    "X = df.drop(columns=[\"country_name\", \"country_code\"])\n",
    "# X\n",
    "\n",
    "y = df[\"income_group\"]\n",
    "y"
   ]
  },
  {
   "cell_type": "code",
   "execution_count": 10,
   "id": "2f6dd474",
   "metadata": {},
   "outputs": [
    {
     "data": {
      "text/plain": [
       "0      1\n",
       "1      0\n",
       "2      0\n",
       "3      0\n",
       "4      0\n",
       "      ..\n",
       "123    1\n",
       "124    0\n",
       "125    0\n",
       "126    1\n",
       "127    0\n",
       "Name: income_group, Length: 128, dtype: int32"
      ]
     },
     "execution_count": 10,
     "metadata": {},
     "output_type": "execute_result"
    }
   ],
   "source": [
    "y = df[\"income_group\"]\n",
    "y"
   ]
  },
  {
   "cell_type": "code",
   "execution_count": 11,
   "id": "e74314a6",
   "metadata": {},
   "outputs": [
    {
     "data": {
      "text/plain": [
       "0    79\n",
       "1    49\n",
       "Name: income_group, dtype: int64"
      ]
     },
     "execution_count": 11,
     "metadata": {},
     "output_type": "execute_result"
    }
   ],
   "source": [
    "# Check the balance of our target values\n",
    "y.value_counts()"
   ]
  },
  {
   "cell_type": "code",
   "execution_count": 12,
   "id": "18b1c45e",
   "metadata": {},
   "outputs": [
    {
     "data": {
      "text/html": [
       "<div>\n",
       "<style scoped>\n",
       "    .dataframe tbody tr th:only-of-type {\n",
       "        vertical-align: middle;\n",
       "    }\n",
       "\n",
       "    .dataframe tbody tr th {\n",
       "        vertical-align: top;\n",
       "    }\n",
       "\n",
       "    .dataframe thead th {\n",
       "        text-align: right;\n",
       "    }\n",
       "</style>\n",
       "<table border=\"1\" class=\"dataframe\">\n",
       "  <thead>\n",
       "    <tr style=\"text-align: right;\">\n",
       "      <th></th>\n",
       "      <th>country_name</th>\n",
       "      <th>country_code</th>\n",
       "      <th>h_2019</th>\n",
       "      <th>edu_2019</th>\n",
       "      <th>e_2019</th>\n",
       "      <th>con_2019</th>\n",
       "      <th>inf_2019</th>\n",
       "      <th>une_2019</th>\n",
       "      <th>p_2019</th>\n",
       "      <th>g_2019</th>\n",
       "      <th>income_group</th>\n",
       "    </tr>\n",
       "  </thead>\n",
       "  <tbody>\n",
       "    <tr>\n",
       "      <th>0</th>\n",
       "      <td>Angola</td>\n",
       "      <td>AGO</td>\n",
       "      <td>2.53</td>\n",
       "      <td>2.923862e+09</td>\n",
       "      <td>2.827171e+10</td>\n",
       "      <td>4.057062e+10</td>\n",
       "      <td>17.08</td>\n",
       "      <td>7.42</td>\n",
       "      <td>31825299</td>\n",
       "      <td>-0.70</td>\n",
       "      <td>1</td>\n",
       "    </tr>\n",
       "    <tr>\n",
       "      <th>1</th>\n",
       "      <td>Armenia</td>\n",
       "      <td>ARM</td>\n",
       "      <td>11.34</td>\n",
       "      <td>3.161166e+08</td>\n",
       "      <td>5.631686e+09</td>\n",
       "      <td>1.307507e+10</td>\n",
       "      <td>1.44</td>\n",
       "      <td>18.30</td>\n",
       "      <td>2957728</td>\n",
       "      <td>7.60</td>\n",
       "      <td>0</td>\n",
       "    </tr>\n",
       "    <tr>\n",
       "      <th>2</th>\n",
       "      <td>Australia</td>\n",
       "      <td>AUS</td>\n",
       "      <td>9.91</td>\n",
       "      <td>6.777152e+10</td>\n",
       "      <td>3.364310e+11</td>\n",
       "      <td>1.033080e+12</td>\n",
       "      <td>1.61</td>\n",
       "      <td>5.16</td>\n",
       "      <td>25365745</td>\n",
       "      <td>2.11</td>\n",
       "      <td>0</td>\n",
       "    </tr>\n",
       "    <tr>\n",
       "      <th>3</th>\n",
       "      <td>Austria</td>\n",
       "      <td>AUT</td>\n",
       "      <td>10.43</td>\n",
       "      <td>2.241872e+10</td>\n",
       "      <td>2.467240e+11</td>\n",
       "      <td>3.160610e+11</td>\n",
       "      <td>1.53</td>\n",
       "      <td>4.49</td>\n",
       "      <td>8879920</td>\n",
       "      <td>1.49</td>\n",
       "      <td>0</td>\n",
       "    </tr>\n",
       "    <tr>\n",
       "      <th>4</th>\n",
       "      <td>Azerbaijan</td>\n",
       "      <td>AZE</td>\n",
       "      <td>4.04</td>\n",
       "      <td>1.178561e+09</td>\n",
       "      <td>2.362976e+10</td>\n",
       "      <td>3.306206e+10</td>\n",
       "      <td>2.61</td>\n",
       "      <td>4.85</td>\n",
       "      <td>10024283</td>\n",
       "      <td>2.50</td>\n",
       "      <td>0</td>\n",
       "    </tr>\n",
       "    <tr>\n",
       "      <th>...</th>\n",
       "      <td>...</td>\n",
       "      <td>...</td>\n",
       "      <td>...</td>\n",
       "      <td>...</td>\n",
       "      <td>...</td>\n",
       "      <td>...</td>\n",
       "      <td>...</td>\n",
       "      <td>...</td>\n",
       "      <td>...</td>\n",
       "      <td>...</td>\n",
       "      <td>...</td>\n",
       "    </tr>\n",
       "    <tr>\n",
       "      <th>123</th>\n",
       "      <td>Ukraine</td>\n",
       "      <td>UKR</td>\n",
       "      <td>7.10</td>\n",
       "      <td>7.662706e+09</td>\n",
       "      <td>6.344856e+10</td>\n",
       "      <td>1.433540e+11</td>\n",
       "      <td>7.89</td>\n",
       "      <td>8.19</td>\n",
       "      <td>44386203</td>\n",
       "      <td>3.20</td>\n",
       "      <td>1</td>\n",
       "    </tr>\n",
       "    <tr>\n",
       "      <th>124</th>\n",
       "      <td>Uruguay</td>\n",
       "      <td>URY</td>\n",
       "      <td>9.35</td>\n",
       "      <td>2.774959e+09</td>\n",
       "      <td>1.699176e+10</td>\n",
       "      <td>4.865871e+10</td>\n",
       "      <td>7.88</td>\n",
       "      <td>8.88</td>\n",
       "      <td>3461731</td>\n",
       "      <td>0.35</td>\n",
       "      <td>0</td>\n",
       "    </tr>\n",
       "    <tr>\n",
       "      <th>125</th>\n",
       "      <td>United States</td>\n",
       "      <td>USA</td>\n",
       "      <td>16.77</td>\n",
       "      <td>9.540000e+11</td>\n",
       "      <td>2.519730e+12</td>\n",
       "      <td>1.740260e+13</td>\n",
       "      <td>1.81</td>\n",
       "      <td>3.67</td>\n",
       "      <td>328329953</td>\n",
       "      <td>2.29</td>\n",
       "      <td>0</td>\n",
       "    </tr>\n",
       "    <tr>\n",
       "      <th>126</th>\n",
       "      <td>Vanuatu</td>\n",
       "      <td>VUT</td>\n",
       "      <td>3.36</td>\n",
       "      <td>4.506711e+07</td>\n",
       "      <td>4.714967e+08</td>\n",
       "      <td>7.126577e+08</td>\n",
       "      <td>2.76</td>\n",
       "      <td>1.80</td>\n",
       "      <td>299882</td>\n",
       "      <td>3.24</td>\n",
       "      <td>1</td>\n",
       "    </tr>\n",
       "    <tr>\n",
       "      <th>127</th>\n",
       "      <td>South Africa</td>\n",
       "      <td>ZAF</td>\n",
       "      <td>9.11</td>\n",
       "      <td>2.199966e+10</td>\n",
       "      <td>1.060700e+11</td>\n",
       "      <td>3.236180e+11</td>\n",
       "      <td>4.12</td>\n",
       "      <td>28.47</td>\n",
       "      <td>58558267</td>\n",
       "      <td>0.11</td>\n",
       "      <td>0</td>\n",
       "    </tr>\n",
       "  </tbody>\n",
       "</table>\n",
       "<p>128 rows × 11 columns</p>\n",
       "</div>"
      ],
      "text/plain": [
       "      country_name country_code  h_2019      edu_2019        e_2019  \\\n",
       "0           Angola          AGO    2.53  2.923862e+09  2.827171e+10   \n",
       "1          Armenia          ARM   11.34  3.161166e+08  5.631686e+09   \n",
       "2        Australia          AUS    9.91  6.777152e+10  3.364310e+11   \n",
       "3          Austria          AUT   10.43  2.241872e+10  2.467240e+11   \n",
       "4       Azerbaijan          AZE    4.04  1.178561e+09  2.362976e+10   \n",
       "..             ...          ...     ...           ...           ...   \n",
       "123        Ukraine          UKR    7.10  7.662706e+09  6.344856e+10   \n",
       "124        Uruguay          URY    9.35  2.774959e+09  1.699176e+10   \n",
       "125  United States          USA   16.77  9.540000e+11  2.519730e+12   \n",
       "126        Vanuatu          VUT    3.36  4.506711e+07  4.714967e+08   \n",
       "127   South Africa          ZAF    9.11  2.199966e+10  1.060700e+11   \n",
       "\n",
       "         con_2019  inf_2019  une_2019     p_2019  g_2019  income_group  \n",
       "0    4.057062e+10     17.08      7.42   31825299   -0.70             1  \n",
       "1    1.307507e+10      1.44     18.30    2957728    7.60             0  \n",
       "2    1.033080e+12      1.61      5.16   25365745    2.11             0  \n",
       "3    3.160610e+11      1.53      4.49    8879920    1.49             0  \n",
       "4    3.306206e+10      2.61      4.85   10024283    2.50             0  \n",
       "..            ...       ...       ...        ...     ...           ...  \n",
       "123  1.433540e+11      7.89      8.19   44386203    3.20             1  \n",
       "124  4.865871e+10      7.88      8.88    3461731    0.35             0  \n",
       "125  1.740260e+13      1.81      3.67  328329953    2.29             0  \n",
       "126  7.126577e+08      2.76      1.80     299882    3.24             1  \n",
       "127  3.236180e+11      4.12     28.47   58558267    0.11             0  \n",
       "\n",
       "[128 rows x 11 columns]"
      ]
     },
     "execution_count": 12,
     "metadata": {},
     "output_type": "execute_result"
    }
   ],
   "source": [
    "df"
   ]
  },
  {
   "cell_type": "code",
   "execution_count": 13,
   "id": "a4194329",
   "metadata": {},
   "outputs": [
    {
     "name": "stdout",
     "output_type": "stream",
     "text": [
      "y = 38.28125% of training group\n"
     ]
    }
   ],
   "source": [
    "y_percent = (49/(79+49))*100\n",
    "print(f\"y = {y_percent}% of training group\")"
   ]
  },
  {
   "cell_type": "code",
   "execution_count": 14,
   "id": "c3f8504b",
   "metadata": {},
   "outputs": [],
   "source": [
    "from sklearn.model_selection import train_test_split\n",
    "X_train, X_test, y_train, y_test = train_test_split(X, y, random_state=1)"
   ]
  },
  {
   "cell_type": "code",
   "execution_count": 15,
   "id": "6fac5da1",
   "metadata": {},
   "outputs": [],
   "source": [
    "# Resample the training data with the BalancedRandomForestClassifier\n",
    "from imblearn.ensemble import BalancedRandomForestClassifier\n",
    "balanced_forest = BalancedRandomForestClassifier(n_estimators=100, random_state=1)\n"
   ]
  },
  {
   "cell_type": "code",
   "execution_count": 16,
   "id": "ab08a389",
   "metadata": {},
   "outputs": [],
   "source": [
    "#fit the model\n",
    "balanced_forest = balanced_forest.fit(X_train, y_train)"
   ]
  },
  {
   "cell_type": "code",
   "execution_count": 17,
   "id": "6becf794",
   "metadata": {},
   "outputs": [
    {
     "data": {
      "text/plain": [
       "1.0"
      ]
     },
     "execution_count": 17,
     "metadata": {},
     "output_type": "execute_result"
    }
   ],
   "source": [
    "#calculate balanced accuracy score\n",
    "y_pred = balanced_forest.predict(X_test)\n",
    "balanced_accuracy_score(y_test, y_pred)\n"
   ]
  },
  {
   "cell_type": "code",
   "execution_count": 18,
   "id": "e4df238b",
   "metadata": {},
   "outputs": [
    {
     "data": {
      "text/plain": [
       "array([[20,  0],\n",
       "       [ 0, 12]], dtype=int64)"
      ]
     },
     "execution_count": 18,
     "metadata": {},
     "output_type": "execute_result"
    }
   ],
   "source": [
    "#display the confusion matrix\n",
    "cm = confusion_matrix(y_test, y_pred)\n",
    "cm"
   ]
  },
  {
   "cell_type": "code",
   "execution_count": 19,
   "id": "dd193b9c",
   "metadata": {},
   "outputs": [
    {
     "data": {
      "text/html": [
       "<div>\n",
       "<style scoped>\n",
       "    .dataframe tbody tr th:only-of-type {\n",
       "        vertical-align: middle;\n",
       "    }\n",
       "\n",
       "    .dataframe tbody tr th {\n",
       "        vertical-align: top;\n",
       "    }\n",
       "\n",
       "    .dataframe thead th {\n",
       "        text-align: right;\n",
       "    }\n",
       "</style>\n",
       "<table border=\"1\" class=\"dataframe\">\n",
       "  <thead>\n",
       "    <tr style=\"text-align: right;\">\n",
       "      <th></th>\n",
       "      <th>0</th>\n",
       "      <th>1</th>\n",
       "    </tr>\n",
       "  </thead>\n",
       "  <tbody>\n",
       "    <tr>\n",
       "      <th>0</th>\n",
       "      <td>20</td>\n",
       "      <td>0</td>\n",
       "    </tr>\n",
       "    <tr>\n",
       "      <th>1</th>\n",
       "      <td>0</td>\n",
       "      <td>12</td>\n",
       "    </tr>\n",
       "  </tbody>\n",
       "</table>\n",
       "</div>"
      ],
      "text/plain": [
       "    0   1\n",
       "0  20   0\n",
       "1   0  12"
      ]
     },
     "execution_count": 19,
     "metadata": {},
     "output_type": "execute_result"
    }
   ],
   "source": [
    "cm_df = pd.DataFrame(cm)\n",
    "cm_df"
   ]
  },
  {
   "cell_type": "code",
   "execution_count": 20,
   "id": "122c8c82",
   "metadata": {},
   "outputs": [
    {
     "data": {
      "text/html": [
       "<div>\n",
       "<style scoped>\n",
       "    .dataframe tbody tr th:only-of-type {\n",
       "        vertical-align: middle;\n",
       "    }\n",
       "\n",
       "    .dataframe tbody tr th {\n",
       "        vertical-align: top;\n",
       "    }\n",
       "\n",
       "    .dataframe thead th {\n",
       "        text-align: right;\n",
       "    }\n",
       "</style>\n",
       "<table border=\"1\" class=\"dataframe\">\n",
       "  <thead>\n",
       "    <tr style=\"text-align: right;\">\n",
       "      <th></th>\n",
       "      <th>High Income</th>\n",
       "      <th>Low Income</th>\n",
       "    </tr>\n",
       "  </thead>\n",
       "  <tbody>\n",
       "    <tr>\n",
       "      <th>High Income</th>\n",
       "      <td>20</td>\n",
       "      <td>0</td>\n",
       "    </tr>\n",
       "    <tr>\n",
       "      <th>Low Income</th>\n",
       "      <td>0</td>\n",
       "      <td>12</td>\n",
       "    </tr>\n",
       "  </tbody>\n",
       "</table>\n",
       "</div>"
      ],
      "text/plain": [
       "             High Income  Low Income\n",
       "High Income           20           0\n",
       "Low Income             0          12"
      ]
     },
     "execution_count": 20,
     "metadata": {},
     "output_type": "execute_result"
    }
   ],
   "source": [
    "cm_df = cm_df.set_axis([\"High Income\", \"Low Income\"], axis = 1)\n",
    "cm_df = cm_df.set_axis([\"High Income\", \"Low Income\"], axis = 0)\n",
    "cm_df"
   ]
  },
  {
   "cell_type": "code",
   "execution_count": 21,
   "id": "074134bd",
   "metadata": {},
   "outputs": [
    {
     "name": "stdout",
     "output_type": "stream",
     "text": [
      "              precision    recall  f1-score   support\n",
      "\n",
      "           0       1.00      1.00      1.00        20\n",
      "           1       1.00      1.00      1.00        12\n",
      "\n",
      "    accuracy                           1.00        32\n",
      "   macro avg       1.00      1.00      1.00        32\n",
      "weighted avg       1.00      1.00      1.00        32\n",
      "\n"
     ]
    }
   ],
   "source": [
    "#Print imbalanced classification report\n",
    "print(classification_report(y_test, y_pred))"
   ]
  },
  {
   "cell_type": "code",
   "execution_count": null,
   "id": "93025330",
   "metadata": {},
   "outputs": [],
   "source": []
  }
 ],
 "metadata": {
  "kernelspec": {
   "display_name": "mlenv",
   "language": "python",
   "name": "mlenv"
  },
  "language_info": {
   "codemirror_mode": {
    "name": "ipython",
    "version": 3
   },
   "file_extension": ".py",
   "mimetype": "text/x-python",
   "name": "python",
   "nbconvert_exporter": "python",
   "pygments_lexer": "ipython3",
   "version": "3.7.13"
  }
 },
 "nbformat": 4,
 "nbformat_minor": 5
}
