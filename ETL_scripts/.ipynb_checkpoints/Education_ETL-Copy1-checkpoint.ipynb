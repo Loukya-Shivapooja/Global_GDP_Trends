{
 "cells": [
  {
   "cell_type": "code",
   "execution_count": 1,
   "id": "e111547a",
   "metadata": {},
   "outputs": [],
   "source": [
    "#initial Imports\n",
    "import pandas as pd\n",
    "import os\n"
   ]
  },
  {
   "cell_type": "code",
   "execution_count": 12,
   "id": "d32cea00",
   "metadata": {},
   "outputs": [],
   "source": [
    "#files to load\n",
    "education_expenditure_file_path = (\"Resources/education_expenditure.csv\")\n",
    "country_code_file_path = (\"Resources/country-codes.csv\")\n",
    "countries_region_income = (\"Resources/countries_region_income.csv\")\n",
    "webscraped_universities = (\"Resources/webscraped_university_names.csv\")\n"
   ]
  },
  {
   "cell_type": "code",
   "execution_count": 13,
   "id": "6b5a21d1",
   "metadata": {},
   "outputs": [
    {
     "ename": "FileNotFoundError",
     "evalue": "[Errno 2] No such file or directory: 'education_expenditure.csv'",
     "output_type": "error",
     "traceback": [
      "\u001b[1;31m---------------------------------------------------------------------------\u001b[0m",
      "\u001b[1;31mFileNotFoundError\u001b[0m                         Traceback (most recent call last)",
      "Input \u001b[1;32mIn [13]\u001b[0m, in \u001b[0;36m<cell line: 2>\u001b[1;34m()\u001b[0m\n\u001b[0;32m      1\u001b[0m \u001b[38;5;66;03m#read in file\u001b[39;00m\n\u001b[1;32m----> 2\u001b[0m education_expenditure_data \u001b[38;5;241m=\u001b[39m \u001b[43mpd\u001b[49m\u001b[38;5;241;43m.\u001b[39;49m\u001b[43mread_csv\u001b[49m\u001b[43m(\u001b[49m\u001b[43meducation_expenditure_file_path\u001b[49m\u001b[43m)\u001b[49m\n\u001b[0;32m      3\u001b[0m df \u001b[38;5;241m=\u001b[39m pd\u001b[38;5;241m.\u001b[39mDataFrame(education_expenditure_data)\n\u001b[0;32m      4\u001b[0m df\n",
      "File \u001b[1;32m~\\anaconda3\\lib\\site-packages\\pandas\\util\\_decorators.py:311\u001b[0m, in \u001b[0;36mdeprecate_nonkeyword_arguments.<locals>.decorate.<locals>.wrapper\u001b[1;34m(*args, **kwargs)\u001b[0m\n\u001b[0;32m    305\u001b[0m \u001b[38;5;28;01mif\u001b[39;00m \u001b[38;5;28mlen\u001b[39m(args) \u001b[38;5;241m>\u001b[39m num_allow_args:\n\u001b[0;32m    306\u001b[0m     warnings\u001b[38;5;241m.\u001b[39mwarn(\n\u001b[0;32m    307\u001b[0m         msg\u001b[38;5;241m.\u001b[39mformat(arguments\u001b[38;5;241m=\u001b[39marguments),\n\u001b[0;32m    308\u001b[0m         \u001b[38;5;167;01mFutureWarning\u001b[39;00m,\n\u001b[0;32m    309\u001b[0m         stacklevel\u001b[38;5;241m=\u001b[39mstacklevel,\n\u001b[0;32m    310\u001b[0m     )\n\u001b[1;32m--> 311\u001b[0m \u001b[38;5;28;01mreturn\u001b[39;00m func(\u001b[38;5;241m*\u001b[39margs, \u001b[38;5;241m*\u001b[39m\u001b[38;5;241m*\u001b[39mkwargs)\n",
      "File \u001b[1;32m~\\anaconda3\\lib\\site-packages\\pandas\\io\\parsers\\readers.py:680\u001b[0m, in \u001b[0;36mread_csv\u001b[1;34m(filepath_or_buffer, sep, delimiter, header, names, index_col, usecols, squeeze, prefix, mangle_dupe_cols, dtype, engine, converters, true_values, false_values, skipinitialspace, skiprows, skipfooter, nrows, na_values, keep_default_na, na_filter, verbose, skip_blank_lines, parse_dates, infer_datetime_format, keep_date_col, date_parser, dayfirst, cache_dates, iterator, chunksize, compression, thousands, decimal, lineterminator, quotechar, quoting, doublequote, escapechar, comment, encoding, encoding_errors, dialect, error_bad_lines, warn_bad_lines, on_bad_lines, delim_whitespace, low_memory, memory_map, float_precision, storage_options)\u001b[0m\n\u001b[0;32m    665\u001b[0m kwds_defaults \u001b[38;5;241m=\u001b[39m _refine_defaults_read(\n\u001b[0;32m    666\u001b[0m     dialect,\n\u001b[0;32m    667\u001b[0m     delimiter,\n\u001b[1;32m   (...)\u001b[0m\n\u001b[0;32m    676\u001b[0m     defaults\u001b[38;5;241m=\u001b[39m{\u001b[38;5;124m\"\u001b[39m\u001b[38;5;124mdelimiter\u001b[39m\u001b[38;5;124m\"\u001b[39m: \u001b[38;5;124m\"\u001b[39m\u001b[38;5;124m,\u001b[39m\u001b[38;5;124m\"\u001b[39m},\n\u001b[0;32m    677\u001b[0m )\n\u001b[0;32m    678\u001b[0m kwds\u001b[38;5;241m.\u001b[39mupdate(kwds_defaults)\n\u001b[1;32m--> 680\u001b[0m \u001b[38;5;28;01mreturn\u001b[39;00m \u001b[43m_read\u001b[49m\u001b[43m(\u001b[49m\u001b[43mfilepath_or_buffer\u001b[49m\u001b[43m,\u001b[49m\u001b[43m \u001b[49m\u001b[43mkwds\u001b[49m\u001b[43m)\u001b[49m\n",
      "File \u001b[1;32m~\\anaconda3\\lib\\site-packages\\pandas\\io\\parsers\\readers.py:575\u001b[0m, in \u001b[0;36m_read\u001b[1;34m(filepath_or_buffer, kwds)\u001b[0m\n\u001b[0;32m    572\u001b[0m _validate_names(kwds\u001b[38;5;241m.\u001b[39mget(\u001b[38;5;124m\"\u001b[39m\u001b[38;5;124mnames\u001b[39m\u001b[38;5;124m\"\u001b[39m, \u001b[38;5;28;01mNone\u001b[39;00m))\n\u001b[0;32m    574\u001b[0m \u001b[38;5;66;03m# Create the parser.\u001b[39;00m\n\u001b[1;32m--> 575\u001b[0m parser \u001b[38;5;241m=\u001b[39m TextFileReader(filepath_or_buffer, \u001b[38;5;241m*\u001b[39m\u001b[38;5;241m*\u001b[39mkwds)\n\u001b[0;32m    577\u001b[0m \u001b[38;5;28;01mif\u001b[39;00m chunksize \u001b[38;5;129;01mor\u001b[39;00m iterator:\n\u001b[0;32m    578\u001b[0m     \u001b[38;5;28;01mreturn\u001b[39;00m parser\n",
      "File \u001b[1;32m~\\anaconda3\\lib\\site-packages\\pandas\\io\\parsers\\readers.py:933\u001b[0m, in \u001b[0;36mTextFileReader.__init__\u001b[1;34m(self, f, engine, **kwds)\u001b[0m\n\u001b[0;32m    930\u001b[0m     \u001b[38;5;28mself\u001b[39m\u001b[38;5;241m.\u001b[39moptions[\u001b[38;5;124m\"\u001b[39m\u001b[38;5;124mhas_index_names\u001b[39m\u001b[38;5;124m\"\u001b[39m] \u001b[38;5;241m=\u001b[39m kwds[\u001b[38;5;124m\"\u001b[39m\u001b[38;5;124mhas_index_names\u001b[39m\u001b[38;5;124m\"\u001b[39m]\n\u001b[0;32m    932\u001b[0m \u001b[38;5;28mself\u001b[39m\u001b[38;5;241m.\u001b[39mhandles: IOHandles \u001b[38;5;241m|\u001b[39m \u001b[38;5;28;01mNone\u001b[39;00m \u001b[38;5;241m=\u001b[39m \u001b[38;5;28;01mNone\u001b[39;00m\n\u001b[1;32m--> 933\u001b[0m \u001b[38;5;28mself\u001b[39m\u001b[38;5;241m.\u001b[39m_engine \u001b[38;5;241m=\u001b[39m \u001b[38;5;28;43mself\u001b[39;49m\u001b[38;5;241;43m.\u001b[39;49m\u001b[43m_make_engine\u001b[49m\u001b[43m(\u001b[49m\u001b[43mf\u001b[49m\u001b[43m,\u001b[49m\u001b[43m \u001b[49m\u001b[38;5;28;43mself\u001b[39;49m\u001b[38;5;241;43m.\u001b[39;49m\u001b[43mengine\u001b[49m\u001b[43m)\u001b[49m\n",
      "File \u001b[1;32m~\\anaconda3\\lib\\site-packages\\pandas\\io\\parsers\\readers.py:1217\u001b[0m, in \u001b[0;36mTextFileReader._make_engine\u001b[1;34m(self, f, engine)\u001b[0m\n\u001b[0;32m   1213\u001b[0m     mode \u001b[38;5;241m=\u001b[39m \u001b[38;5;124m\"\u001b[39m\u001b[38;5;124mrb\u001b[39m\u001b[38;5;124m\"\u001b[39m\n\u001b[0;32m   1214\u001b[0m \u001b[38;5;66;03m# error: No overload variant of \"get_handle\" matches argument types\u001b[39;00m\n\u001b[0;32m   1215\u001b[0m \u001b[38;5;66;03m# \"Union[str, PathLike[str], ReadCsvBuffer[bytes], ReadCsvBuffer[str]]\"\u001b[39;00m\n\u001b[0;32m   1216\u001b[0m \u001b[38;5;66;03m# , \"str\", \"bool\", \"Any\", \"Any\", \"Any\", \"Any\", \"Any\"\u001b[39;00m\n\u001b[1;32m-> 1217\u001b[0m \u001b[38;5;28mself\u001b[39m\u001b[38;5;241m.\u001b[39mhandles \u001b[38;5;241m=\u001b[39m \u001b[43mget_handle\u001b[49m\u001b[43m(\u001b[49m\u001b[43m  \u001b[49m\u001b[38;5;66;43;03m# type: ignore[call-overload]\u001b[39;49;00m\n\u001b[0;32m   1218\u001b[0m \u001b[43m    \u001b[49m\u001b[43mf\u001b[49m\u001b[43m,\u001b[49m\n\u001b[0;32m   1219\u001b[0m \u001b[43m    \u001b[49m\u001b[43mmode\u001b[49m\u001b[43m,\u001b[49m\n\u001b[0;32m   1220\u001b[0m \u001b[43m    \u001b[49m\u001b[43mencoding\u001b[49m\u001b[38;5;241;43m=\u001b[39;49m\u001b[38;5;28;43mself\u001b[39;49m\u001b[38;5;241;43m.\u001b[39;49m\u001b[43moptions\u001b[49m\u001b[38;5;241;43m.\u001b[39;49m\u001b[43mget\u001b[49m\u001b[43m(\u001b[49m\u001b[38;5;124;43m\"\u001b[39;49m\u001b[38;5;124;43mencoding\u001b[39;49m\u001b[38;5;124;43m\"\u001b[39;49m\u001b[43m,\u001b[49m\u001b[43m \u001b[49m\u001b[38;5;28;43;01mNone\u001b[39;49;00m\u001b[43m)\u001b[49m\u001b[43m,\u001b[49m\n\u001b[0;32m   1221\u001b[0m \u001b[43m    \u001b[49m\u001b[43mcompression\u001b[49m\u001b[38;5;241;43m=\u001b[39;49m\u001b[38;5;28;43mself\u001b[39;49m\u001b[38;5;241;43m.\u001b[39;49m\u001b[43moptions\u001b[49m\u001b[38;5;241;43m.\u001b[39;49m\u001b[43mget\u001b[49m\u001b[43m(\u001b[49m\u001b[38;5;124;43m\"\u001b[39;49m\u001b[38;5;124;43mcompression\u001b[39;49m\u001b[38;5;124;43m\"\u001b[39;49m\u001b[43m,\u001b[49m\u001b[43m \u001b[49m\u001b[38;5;28;43;01mNone\u001b[39;49;00m\u001b[43m)\u001b[49m\u001b[43m,\u001b[49m\n\u001b[0;32m   1222\u001b[0m \u001b[43m    \u001b[49m\u001b[43mmemory_map\u001b[49m\u001b[38;5;241;43m=\u001b[39;49m\u001b[38;5;28;43mself\u001b[39;49m\u001b[38;5;241;43m.\u001b[39;49m\u001b[43moptions\u001b[49m\u001b[38;5;241;43m.\u001b[39;49m\u001b[43mget\u001b[49m\u001b[43m(\u001b[49m\u001b[38;5;124;43m\"\u001b[39;49m\u001b[38;5;124;43mmemory_map\u001b[39;49m\u001b[38;5;124;43m\"\u001b[39;49m\u001b[43m,\u001b[49m\u001b[43m \u001b[49m\u001b[38;5;28;43;01mFalse\u001b[39;49;00m\u001b[43m)\u001b[49m\u001b[43m,\u001b[49m\n\u001b[0;32m   1223\u001b[0m \u001b[43m    \u001b[49m\u001b[43mis_text\u001b[49m\u001b[38;5;241;43m=\u001b[39;49m\u001b[43mis_text\u001b[49m\u001b[43m,\u001b[49m\n\u001b[0;32m   1224\u001b[0m \u001b[43m    \u001b[49m\u001b[43merrors\u001b[49m\u001b[38;5;241;43m=\u001b[39;49m\u001b[38;5;28;43mself\u001b[39;49m\u001b[38;5;241;43m.\u001b[39;49m\u001b[43moptions\u001b[49m\u001b[38;5;241;43m.\u001b[39;49m\u001b[43mget\u001b[49m\u001b[43m(\u001b[49m\u001b[38;5;124;43m\"\u001b[39;49m\u001b[38;5;124;43mencoding_errors\u001b[39;49m\u001b[38;5;124;43m\"\u001b[39;49m\u001b[43m,\u001b[49m\u001b[43m \u001b[49m\u001b[38;5;124;43m\"\u001b[39;49m\u001b[38;5;124;43mstrict\u001b[39;49m\u001b[38;5;124;43m\"\u001b[39;49m\u001b[43m)\u001b[49m\u001b[43m,\u001b[49m\n\u001b[0;32m   1225\u001b[0m \u001b[43m    \u001b[49m\u001b[43mstorage_options\u001b[49m\u001b[38;5;241;43m=\u001b[39;49m\u001b[38;5;28;43mself\u001b[39;49m\u001b[38;5;241;43m.\u001b[39;49m\u001b[43moptions\u001b[49m\u001b[38;5;241;43m.\u001b[39;49m\u001b[43mget\u001b[49m\u001b[43m(\u001b[49m\u001b[38;5;124;43m\"\u001b[39;49m\u001b[38;5;124;43mstorage_options\u001b[39;49m\u001b[38;5;124;43m\"\u001b[39;49m\u001b[43m,\u001b[49m\u001b[43m \u001b[49m\u001b[38;5;28;43;01mNone\u001b[39;49;00m\u001b[43m)\u001b[49m\u001b[43m,\u001b[49m\n\u001b[0;32m   1226\u001b[0m \u001b[43m\u001b[49m\u001b[43m)\u001b[49m\n\u001b[0;32m   1227\u001b[0m \u001b[38;5;28;01massert\u001b[39;00m \u001b[38;5;28mself\u001b[39m\u001b[38;5;241m.\u001b[39mhandles \u001b[38;5;129;01mis\u001b[39;00m \u001b[38;5;129;01mnot\u001b[39;00m \u001b[38;5;28;01mNone\u001b[39;00m\n\u001b[0;32m   1228\u001b[0m f \u001b[38;5;241m=\u001b[39m \u001b[38;5;28mself\u001b[39m\u001b[38;5;241m.\u001b[39mhandles\u001b[38;5;241m.\u001b[39mhandle\n",
      "File \u001b[1;32m~\\anaconda3\\lib\\site-packages\\pandas\\io\\common.py:789\u001b[0m, in \u001b[0;36mget_handle\u001b[1;34m(path_or_buf, mode, encoding, compression, memory_map, is_text, errors, storage_options)\u001b[0m\n\u001b[0;32m    784\u001b[0m \u001b[38;5;28;01melif\u001b[39;00m \u001b[38;5;28misinstance\u001b[39m(handle, \u001b[38;5;28mstr\u001b[39m):\n\u001b[0;32m    785\u001b[0m     \u001b[38;5;66;03m# Check whether the filename is to be opened in binary mode.\u001b[39;00m\n\u001b[0;32m    786\u001b[0m     \u001b[38;5;66;03m# Binary mode does not support 'encoding' and 'newline'.\u001b[39;00m\n\u001b[0;32m    787\u001b[0m     \u001b[38;5;28;01mif\u001b[39;00m ioargs\u001b[38;5;241m.\u001b[39mencoding \u001b[38;5;129;01mand\u001b[39;00m \u001b[38;5;124m\"\u001b[39m\u001b[38;5;124mb\u001b[39m\u001b[38;5;124m\"\u001b[39m \u001b[38;5;129;01mnot\u001b[39;00m \u001b[38;5;129;01min\u001b[39;00m ioargs\u001b[38;5;241m.\u001b[39mmode:\n\u001b[0;32m    788\u001b[0m         \u001b[38;5;66;03m# Encoding\u001b[39;00m\n\u001b[1;32m--> 789\u001b[0m         handle \u001b[38;5;241m=\u001b[39m \u001b[38;5;28;43mopen\u001b[39;49m\u001b[43m(\u001b[49m\n\u001b[0;32m    790\u001b[0m \u001b[43m            \u001b[49m\u001b[43mhandle\u001b[49m\u001b[43m,\u001b[49m\n\u001b[0;32m    791\u001b[0m \u001b[43m            \u001b[49m\u001b[43mioargs\u001b[49m\u001b[38;5;241;43m.\u001b[39;49m\u001b[43mmode\u001b[49m\u001b[43m,\u001b[49m\n\u001b[0;32m    792\u001b[0m \u001b[43m            \u001b[49m\u001b[43mencoding\u001b[49m\u001b[38;5;241;43m=\u001b[39;49m\u001b[43mioargs\u001b[49m\u001b[38;5;241;43m.\u001b[39;49m\u001b[43mencoding\u001b[49m\u001b[43m,\u001b[49m\n\u001b[0;32m    793\u001b[0m \u001b[43m            \u001b[49m\u001b[43merrors\u001b[49m\u001b[38;5;241;43m=\u001b[39;49m\u001b[43merrors\u001b[49m\u001b[43m,\u001b[49m\n\u001b[0;32m    794\u001b[0m \u001b[43m            \u001b[49m\u001b[43mnewline\u001b[49m\u001b[38;5;241;43m=\u001b[39;49m\u001b[38;5;124;43m\"\u001b[39;49m\u001b[38;5;124;43m\"\u001b[39;49m\u001b[43m,\u001b[49m\n\u001b[0;32m    795\u001b[0m \u001b[43m        \u001b[49m\u001b[43m)\u001b[49m\n\u001b[0;32m    796\u001b[0m     \u001b[38;5;28;01melse\u001b[39;00m:\n\u001b[0;32m    797\u001b[0m         \u001b[38;5;66;03m# Binary mode\u001b[39;00m\n\u001b[0;32m    798\u001b[0m         handle \u001b[38;5;241m=\u001b[39m \u001b[38;5;28mopen\u001b[39m(handle, ioargs\u001b[38;5;241m.\u001b[39mmode)\n",
      "\u001b[1;31mFileNotFoundError\u001b[0m: [Errno 2] No such file or directory: 'education_expenditure.csv'"
     ]
    }
   ],
   "source": [
    "#read in file\n",
    "education_expenditure_data = pd.read_csv(education_expenditure_file_path)\n",
    "df = pd.DataFrame(education_expenditure_data)\n",
    "df"
   ]
  },
  {
   "cell_type": "code",
   "execution_count": null,
   "id": "e66ee796",
   "metadata": {},
   "outputs": [],
   "source": [
    "#get header rows\n",
    "#a. create empty list for headers\n",
    "headers = []\n"
   ]
  },
  {
   "cell_type": "code",
   "execution_count": null,
   "id": "73e85929",
   "metadata": {},
   "outputs": [],
   "source": [
    "#b. drop first 3 rows with no data\n",
    "education_df = df.iloc[3:, :]\n",
    "\n",
    "#c. use new first row as headers\n",
    "headers = education_df.iloc[0]\n",
    "education_df = education_df[1:]\n",
    "education_df.columns = headers\n",
    "\n",
    "education_df.head(10)"
   ]
  },
  {
   "cell_type": "code",
   "execution_count": null,
   "id": "e6b90815",
   "metadata": {},
   "outputs": [],
   "source": [
    "#drop columns that will not be of use\n",
    "education_df = education_df.drop(education_df.columns[2:45], axis=1)"
   ]
  },
  {
   "cell_type": "code",
   "execution_count": null,
   "id": "27c3789f",
   "metadata": {},
   "outputs": [],
   "source": [
    "education_df = education_df.drop(education_df.columns[21:23], axis=1)"
   ]
  },
  {
   "cell_type": "code",
   "execution_count": null,
   "id": "e1a2459b",
   "metadata": {},
   "outputs": [],
   "source": [
    "education_df"
   ]
  },
  {
   "cell_type": "code",
   "execution_count": null,
   "id": "fa1b1354",
   "metadata": {},
   "outputs": [],
   "source": [
    "#clean Up DataFrame\n",
    "#replace column names\n",
    "education_df = education_df.set_axis(['Country Name', 'Country Code', '2001', '2002','2003','2004','2005','2006',\n",
    "                                            '2007','2008','2009','2010','2011','2012','2013','2014','2015','2016','2017',\n",
    "                                            '2018','2019'], axis = 1)\n",
    "education_df.head()"
   ]
  },
  {
   "cell_type": "code",
   "execution_count": null,
   "id": "af68b656",
   "metadata": {},
   "outputs": [],
   "source": [
    "print(education_df.dtypes)\n",
    "print(education_df.shape)"
   ]
  },
  {
   "cell_type": "code",
   "execution_count": null,
   "id": "75514f8d",
   "metadata": {},
   "outputs": [],
   "source": [
    "#create df\n",
    "#read in df for with country codes\n",
    "country_codes = pd.read_csv(country_code_file_path)\n",
    "country_codes_df = pd.DataFrame(country_codes)\n",
    "country_codes_df"
   ]
  },
  {
   "cell_type": "code",
   "execution_count": null,
   "id": "977dcead",
   "metadata": {},
   "outputs": [],
   "source": [
    "#rename country column in country_codes_df\n",
    "country_codes_df = country_codes_df.rename({\"English short name lower case\":\"Country Name\", \"Alpha-3 code\":\"Country Code\"}, axis=1)\n",
    "country_codes_df"
   ]
  },
  {
   "cell_type": "code",
   "execution_count": null,
   "id": "218d03fe",
   "metadata": {},
   "outputs": [],
   "source": [
    "#merge df with region_income_df\n",
    "education_df = education_df.merge(country_codes_df, how=\"left\", left_on=[\"Country Code\"], right_on=[\"Country Code\"])\n",
    "education_df"
   ]
  },
  {
   "cell_type": "code",
   "execution_count": null,
   "id": "bebbd194",
   "metadata": {},
   "outputs": [],
   "source": [
    "print(education_df.columns)"
   ]
  },
  {
   "cell_type": "code",
   "execution_count": null,
   "id": "f5831029",
   "metadata": {},
   "outputs": [],
   "source": [
    "#check null values\n",
    "education_df.isnull().sum()"
   ]
  },
  {
   "cell_type": "code",
   "execution_count": null,
   "id": "645f7083",
   "metadata": {},
   "outputs": [],
   "source": [
    "#Check that null values are not actually countries\n",
    "new_null_rows = education_df[education_df.isna().any(axis=1)]\n",
    "new_null_rows_df = pd.DataFrame(new_null_rows)\n",
    "new_null_rows_df[\"Country Name_x\"]"
   ]
  },
  {
   "cell_type": "code",
   "execution_count": null,
   "id": "d24a24e2",
   "metadata": {},
   "outputs": [],
   "source": [
    "#drop rows that are not countries\n",
    "education_df = education_df.dropna()\n",
    "education_df"
   ]
  },
  {
   "cell_type": "code",
   "execution_count": null,
   "id": "39441da5",
   "metadata": {},
   "outputs": [],
   "source": [
    "#clean up data frame\n",
    "\n",
    "#a. drop country name row from GDP_growth_df\n",
    "education_df = education_df.drop(['Country Name_x', 'Numeric code', 'ISO 3166-2'], axis=1)\n",
    "\n",
    "#b. rename new Country name Column\n",
    "education_df = education_df.rename({\"Country Name_y\": \"Country Name\"}, axis=1)"
   ]
  },
  {
   "cell_type": "code",
   "execution_count": null,
   "id": "e286a110",
   "metadata": {},
   "outputs": [],
   "source": [
    "#c. list column names \n",
    "columns = list(education_df.columns.values)\n",
    "print(columns)"
   ]
  },
  {
   "cell_type": "code",
   "execution_count": null,
   "id": "b47601bc",
   "metadata": {},
   "outputs": [],
   "source": [
    "#d.reorganize columns\n",
    "education_df = education_df.loc[:,[\"Country Name\",'Country Code', '2001', '2002', '2003', '2004', '2005', '2006', '2007', '2008', '2009', '2010', '2011', '2012', '2013', '2014', '2015', '2016', '2017', '2018', '2019']]\n",
    "education_df"
   ]
  },
  {
   "cell_type": "markdown",
   "id": "b1fbb99c",
   "metadata": {},
   "source": [
    "## Region Income"
   ]
  },
  {
   "cell_type": "code",
   "execution_count": null,
   "id": "fcee9a85",
   "metadata": {},
   "outputs": [],
   "source": [
    "#read in csv\n",
    "region_income = pd.read_csv(countries_region_income)\n",
    "\n",
    "#create DataFrame\n",
    "region_income_df = pd.DataFrame(region_income)\n",
    "region_income_df"
   ]
  },
  {
   "cell_type": "code",
   "execution_count": null,
   "id": "e22a482d",
   "metadata": {},
   "outputs": [],
   "source": [
    "#merge df with region_income_df\n",
    "education_df = pd.merge(education_df, region_income_df, on=\"Country Code\")\n",
    "education_df"
   ]
  },
  {
   "cell_type": "code",
   "execution_count": null,
   "id": "9841c0e5",
   "metadata": {},
   "outputs": [],
   "source": [
    "#check null values\n",
    "education_df.isnull().sum()"
   ]
  },
  {
   "cell_type": "code",
   "execution_count": null,
   "id": "ce7266bf",
   "metadata": {},
   "outputs": [],
   "source": [
    "#drop unnecessary columns\n",
    "#a. list columns\n",
    "columns = list(education_df.columns.values)\n",
    "print(columns)"
   ]
  },
  {
   "cell_type": "code",
   "execution_count": null,
   "id": "2b2972cc",
   "metadata": {},
   "outputs": [],
   "source": [
    "#b. drop columns\n",
    "education_df = education_df.drop(['Region', 'SpecialNotes', 'TableName'], axis=1)\n",
    "education_df"
   ]
  },
  {
   "cell_type": "markdown",
   "id": "dd1578b4",
   "metadata": {},
   "source": [
    "## Number of Universities\n"
   ]
  },
  {
   "cell_type": "code",
   "execution_count": null,
   "id": "56c23d52",
   "metadata": {},
   "outputs": [],
   "source": [
    "#initial imports\n",
    "university_data = pd.read_csv(webscraped_universities)\n",
    "university_df = pd.DataFrame(university_data)\n",
    "university_df"
   ]
  },
  {
   "cell_type": "code",
   "execution_count": null,
   "id": "acc01c21",
   "metadata": {},
   "outputs": [],
   "source": [
    "#handle duplicated index\n",
    "university_df = university_df.set_index('Unnamed: 0', drop =True)\n",
    "university_df = university_df.rename_axis(None)\n",
    "university_df"
   ]
  },
  {
   "cell_type": "code",
   "execution_count": null,
   "id": "0087c689",
   "metadata": {},
   "outputs": [],
   "source": [
    "#drop null rows\n",
    "university_df = university_df.dropna()\n",
    "university_df"
   ]
  },
  {
   "cell_type": "code",
   "execution_count": null,
   "id": "f3d1ed62",
   "metadata": {},
   "outputs": [],
   "source": [
    "#drop duplicate rows\n",
    "university_df = university_df.drop_duplicates()\n",
    "university_df"
   ]
  },
  {
   "cell_type": "code",
   "execution_count": null,
   "id": "b4cafb4f",
   "metadata": {},
   "outputs": [],
   "source": [
    "university_df.dtypes"
   ]
  },
  {
   "cell_type": "code",
   "execution_count": null,
   "id": "4f6b1c8b",
   "metadata": {},
   "outputs": [],
   "source": [
    "university_df[\"Country\"] = university_df[\"Country\"].str.upper()\n",
    "university_df"
   ]
  },
  {
   "cell_type": "code",
   "execution_count": null,
   "id": "e5c01ece",
   "metadata": {},
   "outputs": [],
   "source": [
    "education_df[\"university_count\"] = university_df.groupby([\"Country\"]).count()"
   ]
  },
  {
   "cell_type": "code",
   "execution_count": null,
   "id": "126242e7",
   "metadata": {},
   "outputs": [],
   "source": []
  }
 ],
 "metadata": {
  "kernelspec": {
   "display_name": "Python 3 (ipykernel)",
   "language": "python",
   "name": "python3"
  },
  "language_info": {
   "codemirror_mode": {
    "name": "ipython",
    "version": 3
   },
   "file_extension": ".py",
   "mimetype": "text/x-python",
   "name": "python",
   "nbconvert_exporter": "python",
   "pygments_lexer": "ipython3",
   "version": "3.9.12"
  }
 },
 "nbformat": 4,
 "nbformat_minor": 5
}
